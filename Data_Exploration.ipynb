{
 "cells": [
  {
   "cell_type": "code",
   "execution_count": 1,
   "metadata": {},
   "outputs": [],
   "source": [
    "import numpy as np\n",
    "import pandas as pd"
   ]
  },
  {
   "cell_type": "code",
   "execution_count": 13,
   "metadata": {},
   "outputs": [],
   "source": [
    "# read the dataset\n",
    "reviews_data = pd.read_json(r\"C:\\Users\\user\\Documents\\UoM\\Thesis\\data\\Clothing_Shoes_and_Jewelry_5.json\", lines=True)"
   ]
  },
  {
   "cell_type": "code",
   "execution_count": 14,
   "metadata": {},
   "outputs": [
    {
     "data": {
      "text/html": [
       "<div>\n",
       "<style scoped>\n",
       "    .dataframe tbody tr th:only-of-type {\n",
       "        vertical-align: middle;\n",
       "    }\n",
       "\n",
       "    .dataframe tbody tr th {\n",
       "        vertical-align: top;\n",
       "    }\n",
       "\n",
       "    .dataframe thead th {\n",
       "        text-align: right;\n",
       "    }\n",
       "</style>\n",
       "<table border=\"1\" class=\"dataframe\">\n",
       "  <thead>\n",
       "    <tr style=\"text-align: right;\">\n",
       "      <th></th>\n",
       "      <th>asin</th>\n",
       "      <th>helpful</th>\n",
       "      <th>overall</th>\n",
       "      <th>reviewText</th>\n",
       "      <th>reviewTime</th>\n",
       "      <th>reviewerID</th>\n",
       "      <th>reviewerName</th>\n",
       "      <th>summary</th>\n",
       "      <th>unixReviewTime</th>\n",
       "    </tr>\n",
       "  </thead>\n",
       "  <tbody>\n",
       "    <tr>\n",
       "      <th>0</th>\n",
       "      <td>0000031887</td>\n",
       "      <td>[0, 0]</td>\n",
       "      <td>5</td>\n",
       "      <td>This is a great tutu and at a really great pri...</td>\n",
       "      <td>02 12, 2011</td>\n",
       "      <td>A1KLRMWW2FWPL4</td>\n",
       "      <td>Amazon Customer \"cameramom\"</td>\n",
       "      <td>Great tutu-  not cheaply made</td>\n",
       "      <td>1297468800</td>\n",
       "    </tr>\n",
       "    <tr>\n",
       "      <th>1</th>\n",
       "      <td>0000031887</td>\n",
       "      <td>[0, 0]</td>\n",
       "      <td>5</td>\n",
       "      <td>I bought this for my 4 yr old daughter for dan...</td>\n",
       "      <td>01 19, 2013</td>\n",
       "      <td>A2G5TCU2WDFZ65</td>\n",
       "      <td>Amazon Customer</td>\n",
       "      <td>Very Cute!!</td>\n",
       "      <td>1358553600</td>\n",
       "    </tr>\n",
       "    <tr>\n",
       "      <th>2</th>\n",
       "      <td>0000031887</td>\n",
       "      <td>[0, 0]</td>\n",
       "      <td>5</td>\n",
       "      <td>What can I say... my daughters have it in oran...</td>\n",
       "      <td>01 4, 2013</td>\n",
       "      <td>A1RLQXYNCMWRWN</td>\n",
       "      <td>Carola</td>\n",
       "      <td>I have buy more than one</td>\n",
       "      <td>1357257600</td>\n",
       "    </tr>\n",
       "    <tr>\n",
       "      <th>3</th>\n",
       "      <td>0000031887</td>\n",
       "      <td>[0, 0]</td>\n",
       "      <td>5</td>\n",
       "      <td>We bought several tutus at once, and they are ...</td>\n",
       "      <td>04 27, 2014</td>\n",
       "      <td>A8U3FAMSJVHS5</td>\n",
       "      <td>Caromcg</td>\n",
       "      <td>Adorable, Sturdy</td>\n",
       "      <td>1398556800</td>\n",
       "    </tr>\n",
       "    <tr>\n",
       "      <th>4</th>\n",
       "      <td>0000031887</td>\n",
       "      <td>[0, 0]</td>\n",
       "      <td>5</td>\n",
       "      <td>Thank you Halo Heaven great product for Little...</td>\n",
       "      <td>03 15, 2014</td>\n",
       "      <td>A3GEOILWLK86XM</td>\n",
       "      <td>CJ</td>\n",
       "      <td>Grammy's Angels Love it</td>\n",
       "      <td>1394841600</td>\n",
       "    </tr>\n",
       "  </tbody>\n",
       "</table>\n",
       "</div>"
      ],
      "text/plain": [
       "         asin helpful  overall  \\\n",
       "0  0000031887  [0, 0]        5   \n",
       "1  0000031887  [0, 0]        5   \n",
       "2  0000031887  [0, 0]        5   \n",
       "3  0000031887  [0, 0]        5   \n",
       "4  0000031887  [0, 0]        5   \n",
       "\n",
       "                                          reviewText   reviewTime  \\\n",
       "0  This is a great tutu and at a really great pri...  02 12, 2011   \n",
       "1  I bought this for my 4 yr old daughter for dan...  01 19, 2013   \n",
       "2  What can I say... my daughters have it in oran...   01 4, 2013   \n",
       "3  We bought several tutus at once, and they are ...  04 27, 2014   \n",
       "4  Thank you Halo Heaven great product for Little...  03 15, 2014   \n",
       "\n",
       "       reviewerID                 reviewerName                        summary  \\\n",
       "0  A1KLRMWW2FWPL4  Amazon Customer \"cameramom\"  Great tutu-  not cheaply made   \n",
       "1  A2G5TCU2WDFZ65              Amazon Customer                    Very Cute!!   \n",
       "2  A1RLQXYNCMWRWN                       Carola       I have buy more than one   \n",
       "3   A8U3FAMSJVHS5                      Caromcg               Adorable, Sturdy   \n",
       "4  A3GEOILWLK86XM                           CJ        Grammy's Angels Love it   \n",
       "\n",
       "   unixReviewTime  \n",
       "0      1297468800  \n",
       "1      1358553600  \n",
       "2      1357257600  \n",
       "3      1398556800  \n",
       "4      1394841600  "
      ]
     },
     "execution_count": 14,
     "metadata": {},
     "output_type": "execute_result"
    }
   ],
   "source": [
    "# overview of the data\n",
    "reviews_data.head()"
   ]
  },
  {
   "cell_type": "code",
   "execution_count": 16,
   "metadata": {},
   "outputs": [
    {
     "name": "stdout",
     "output_type": "stream",
     "text": [
      "<class 'pandas.core.frame.DataFrame'>\n",
      "RangeIndex: 278677 entries, 0 to 278676\n",
      "Data columns (total 9 columns):\n",
      "asin              278677 non-null object\n",
      "helpful           278677 non-null object\n",
      "overall           278677 non-null int64\n",
      "reviewText        278677 non-null object\n",
      "reviewTime        278677 non-null object\n",
      "reviewerID        278677 non-null object\n",
      "reviewerName      278225 non-null object\n",
      "summary           278677 non-null object\n",
      "unixReviewTime    278677 non-null int64\n",
      "dtypes: int64(2), object(7)\n",
      "memory usage: 19.1+ MB\n"
     ]
    }
   ],
   "source": [
    "reviews_data.info()"
   ]
  },
  {
   "cell_type": "code",
   "execution_count": 17,
   "metadata": {},
   "outputs": [
    {
     "name": "stdout",
     "output_type": "stream",
     "text": [
      "False    278677\n",
      "Name: reviewText, dtype: int64\n"
     ]
    }
   ],
   "source": [
    "# Check if there are columns where reviews are null\n",
    "print(reviews_data['reviewText'].isna().value_counts())\n",
    "\n",
    "# Drop the products whose values are null\n",
    "reviews_data = reviews_data[reviews_data['reviewText'].notna()]"
   ]
  },
  {
   "cell_type": "code",
   "execution_count": 18,
   "metadata": {},
   "outputs": [
    {
     "name": "stdout",
     "output_type": "stream",
     "text": [
      "Basic Statistics on the dataset\n",
      "--------------------------------\n",
      "Size of the dataset:  2508093\n",
      "Number of unique users:  39387\n",
      "Number of unique products:  23033\n",
      "Average number of reviews per user:  7\n",
      "Average number of reviews per product:  12\n",
      "Number of max reviews of a user:  136\n",
      "Number of max reviews of a product:  441\n"
     ]
    }
   ],
   "source": [
    "# Basic statistics on the dataset\n",
    "number_of_reviews = reviews_data.size\n",
    "unique_users = reviews_data['reviewerID'].nunique()\n",
    "unique_products = reviews_data['asin'].nunique()\n",
    "Average_reviews_per_user = round(reviews_data.groupby('reviewerID').size().mean())\n",
    "Average_reviews_per_product = round(reviews_data.groupby('asin').size().mean())\n",
    "userMaxReviews = max(reviews_data.groupby('reviewerID').size())\n",
    "productMaxReviews = max(reviews_data.groupby('asin').size())\n",
    "\n",
    "print(\"Basic Statistics on the dataset\")\n",
    "print(\"--------------------------------\")\n",
    "print(\"Size of the dataset: \", number_of_reviews)\n",
    "print(\"Number of unique users: \", unique_users)\n",
    "print(\"Number of unique products: \", unique_products)\n",
    "print(\"Average number of reviews per user: \", Average_reviews_per_user)\n",
    "print(\"Average number of reviews per product: \", Average_reviews_per_product)\n",
    "print(\"Number of max reviews of a user: \", userMaxReviews)\n",
    "print(\"Number of max reviews of a product: \", productMaxReviews)"
   ]
  },
  {
   "cell_type": "code",
   "execution_count": 19,
   "metadata": {
    "scrolled": true
   },
   "outputs": [
    {
     "data": {
      "text/plain": [
       "5    163240\n",
       "4     58357\n",
       "3     30425\n",
       "2     15463\n",
       "1     11192\n",
       "Name: overall, dtype: int64"
      ]
     },
     "execution_count": 19,
     "metadata": {},
     "output_type": "execute_result"
    }
   ],
   "source": [
    "# Frequency of each rating\n",
    "reviews_data['overall'].value_counts()"
   ]
  },
  {
   "cell_type": "code",
   "execution_count": null,
   "metadata": {},
   "outputs": [],
   "source": []
  }
 ],
 "metadata": {
  "kernelspec": {
   "display_name": "Python 3",
   "language": "python",
   "name": "python3"
  },
  "language_info": {
   "codemirror_mode": {
    "name": "ipython",
    "version": 3
   },
   "file_extension": ".py",
   "mimetype": "text/x-python",
   "name": "python",
   "nbconvert_exporter": "python",
   "pygments_lexer": "ipython3",
   "version": "3.7.0"
  }
 },
 "nbformat": 4,
 "nbformat_minor": 2
}
