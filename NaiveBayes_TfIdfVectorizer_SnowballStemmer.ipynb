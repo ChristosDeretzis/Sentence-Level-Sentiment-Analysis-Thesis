{
 "cells": [
  {
   "cell_type": "code",
   "execution_count": 1,
   "metadata": {},
   "outputs": [],
   "source": [
    "import numpy as np\n",
    "import pandas as pd\n",
    "import re\n",
    "from nltk.tokenize import sent_tokenize, word_tokenize\n",
    "# from nltk.tokenizer import tokenize\n",
    "from nltk.corpus import stopwords\n",
    "from nltk.stem.snowball import SnowballStemmer\n",
    "from sklearn import model_selection\n",
    "from sklearn.preprocessing import LabelEncoder\n",
    "from sklearn.feature_extraction.text import TfidfVectorizer\n",
    "from sklearn import model_selection, naive_bayes, svm\n",
    "from sklearn.metrics import accuracy_score, confusion_matrix, classification_report\n",
    "from collections import Counter\n",
    "import nltk.data\n",
    "\n",
    "tokenizer = nltk.data.load('tokenizers/punkt/english.pickle')"
   ]
  },
  {
   "cell_type": "code",
   "execution_count": 2,
   "metadata": {},
   "outputs": [],
   "source": [
    "# read the dataset\n",
    "reviews_data = pd.read_json(r\"C:\\Users\\user\\Documents\\UoM\\Thesis\\data\\Clothing_Shoes_and_Jewelry_5.json\", lines=True)\n",
    "\n",
    "# Keep only the review text and the grade\n",
    "reviews_data = reviews_data[['overall', 'reviewText']]\n",
    "\n",
    "\n",
    "# Drop the products whose values are null\n",
    "reviews_data = reviews_data[reviews_data['reviewText'].notna()]"
   ]
  },
  {
   "cell_type": "code",
   "execution_count": 3,
   "metadata": {},
   "outputs": [],
   "source": [
    "ratings = []\n",
    "for index,entry in enumerate(reviews_data['overall']):\n",
    "    if entry == 1.0 or entry == 2.0:\n",
    "        ratings.append(-1)\n",
    "    elif entry == 3.0:\n",
    "        ratings.append(0)\n",
    "    elif entry == 4.0 or entry == 5.0:\n",
    "        ratings.append(1)"
   ]
  },
  {
   "cell_type": "code",
   "execution_count": 4,
   "metadata": {},
   "outputs": [
    {
     "name": "stdout",
     "output_type": "stream",
     "text": [
      "0\n",
      "10000\n",
      "20000\n",
      "30000\n",
      "40000\n",
      "50000\n",
      "60000\n",
      "70000\n",
      "80000\n",
      "90000\n",
      "100000\n",
      "110000\n",
      "120000\n",
      "130000\n",
      "140000\n",
      "150000\n",
      "160000\n",
      "170000\n",
      "180000\n",
      "190000\n",
      "200000\n",
      "210000\n",
      "220000\n",
      "230000\n",
      "240000\n",
      "250000\n",
      "260000\n",
      "270000\n"
     ]
    }
   ],
   "source": [
    "\"\"\"\"\n",
    "Split each review into sentences\n",
    "and preprocess each sentence\n",
    "\"\"\"\n",
    "stopwords = stopwords.words('english')\n",
    "snow_stemmer = SnowballStemmer(language='english')\n",
    "\n",
    "preprocessed_data = []\n",
    "index = 0\n",
    "for review in reviews_data['reviewText']:\n",
    "    if(index % 10000 == 0):\n",
    "        print(index)\n",
    "    review_sentences = tokenizer.tokenize(review)\n",
    "    for sentence in review_sentences:\n",
    "        sentence = re.sub('[^a-zA-Z]', ' ', sentence)\n",
    "        sentence = sentence.lower()\n",
    "        sentence = word_tokenize(sentence)\n",
    "        sentence = [snow_stemmer.stem(word) for word in sentence if not word in stopwords]\n",
    "        sentence = ' '.join(sentence)\n",
    "        if(sentence != ''):\n",
    "            review = {}\n",
    "            review[\"index\"] = index\n",
    "            review[\"sentence\"] = sentence\n",
    "            review[\"rating\"] = ratings[index]\n",
    "            preprocessed_data.append(review)\n",
    "    index += 1"
   ]
  },
  {
   "cell_type": "code",
   "execution_count": 5,
   "metadata": {},
   "outputs": [
    {
     "name": "stdout",
     "output_type": "stream",
     "text": [
      "Before preprocessing:  BUCKLE DESIGNI have a variety of these, bought over a span of at least 20 years, and almost certainly made by several different companies. Although the Rothco buckles are \"made in Taiwan\", they are identical (down to the smallest detail) to solid-brass buckles \"made in America\" which I purchased 15 years ago.  Apparently, all buckles of this general type are made to the same government specified design.  These are uniform belts NOT utility belts.  If you want utility belts to hang gear from, consider5.11 TDU 1.5-Inch BeltorUTG Heavy Duty Web Belt - BlackPros/Cons:  I happen to like the precise adjustment, and the ability to wear a belt very loosely when I don't actually need it to hold up my pants---such as when working at my desk. I like being able to adjust the belt on the \"inside\" (where the extra belt material is not visible), so that the end of the belt sticks out only 1\" or so on the outside when worn loosely, and extends to my first belt loop when worn tight.  Tightening such a belt in a hurry (e.g., if you have to stand up and shake a visitors hand) takes just a second and is barely noticeable---particularly compared to the awkward fumbling required to tighten a \"regular\" belt by several notches.  Unfortunately, the belts are not so easy to thread though your belt loops as are slippery leather belts---not normally a problem, however it can be a hassle trying to put your web belt back on after going through airport screening.BUCKLE QUALITYSince these are manufactured by the millions primarily for military use (and to military specifications) they are high quality for the price. The fit and finish of the Rothco \"gold\" and \"silver\" buckles I bought was flawless. No sharp edges, no defects. However, different materials ARE available. The Rothco buckles  are steel, and therefore send metal detectors screaming. Caution: The description of the color \"brass\" means \"gold finish\" NOT solid brass metal construction, similarly \"silver\" means \"white metal\". I have several expensive buckles of the same design in brushed-white and brushed-yellow real solid brass metal, which are NOT detected by airport metal scanners.  Yes I said \"white\" brass---obviously mostly zinc---but called \"white brass\".  Rothco also sells solid brass buckles separately:4406 SOLID BRASS WEB BELT BUCKLE. However, the clip (or clips) on the end (or ends) of these belts are still steel, and will set off metal detectors.\"Setting\" your BeltWhen you \"buckle up, pull the end of the belt to the left with your left hand to adjust the length.  Simultaneously pull the the loose \"gripper pin\" to the right with the thumb and forefinger of your right hand---this sets the gripper tight so that the belt won't accidentally come loose.  After a while it becomes such a habit you don't even think about.SIZEAll are 1 1/4\" wide, the standard size for jeans, chinos, etc.  The size (usually 44\" or 54\") is the length of the web belt, NOT including the buckle and is NOT a waist size. If your waist is >38\", then buy a 54\" belt. Some overlap is necessary. You can choose where you want the overlap---on the outside, say to your first belt loop; or on the inside (where it isn't visible); or both. The belts can easily be shortened (cut to any length you like with scissors), but don't be too quick to shorten the belts---you may need the extra length someday.WEBBING (BELT) QUALITYThe Rothco web belts are thin and rigid, but are just as comfortable as thicker webbing.  Rothco web belts have a clip at only one end (the end which goes through the buckle)---the other end is slightly ragged. Not a problem, but you might want to apply a little glue to the end to prevent fraying.  Elmer's white household glue works well for this purpose.Elmer's All Multipurpose White Glue, 7 5/8 oz. (E379)Apply to the ragged end of the belt, work in, let dry.  Elmer's glue is water soluble and flexible when dry.  I've also used Beacon Fabri-tak which is not water soluble.Beacon Fabri-Tac Permanent Adhesive, 4-Ounce.  It is harder to saturate the fabric with Fabri-tak, but it is particularly good for repairing fraying on old belts.  Fraying (usually after years of use) occurs on the \"business end\" that goes through the buckle.  If you've taken my advice, and have several extra inches on the \"inside\", you can cut off the frayed section and move the clip---or you can move the clip to the opposite end, so that the frayed section is now on the inside.Thin vs Thick & Soft vs Rigid:  On thicker web belts, the clip is sometimes not compressed enough and catches in the buckle--the solution is several whacks with a hammer (cover with a peice of cloth so you don't mar the finish) to close the clip more tightly. It is unlikely that the clips of the thinner Rothco belts will ever catch in the buckles.  Soft belts can \"fall out\" of your first belt loop and flop around.  However, the more rigid Rothco web belts don't flop around, and are unlikely to \"fall out\" of the first belt loop.  In short, the thin rigid webbing is an improvement over the old thicker, softer, webbing.PROBLEM--buckle \"falls off\"Many reviewers report that the buckle \"falls off\" the belt because the gripper (on the back side) doesn't grip well.  Apparently the reason for this is the \"standard\" design, which was originally for the thicker softer belt webbing.  The gripper doesn't grip the thinner harder webbing so tightly.  When you originally setup the belt, pull hard to set the teeth.  Temporarily, you can \"shim\" it up with a scrap of paper,or a short length of Scotch \"invisible\" tape on the buckle under the gripper, for a tighter grip.  Perhaps the best \"shim\" is a 1\" x 1/2\" piece of the sticky part of a \"Post-it\" (stick the sticky side to the back side of the buckle under the gripper)---because it is easy to maneuver into place, and will stay where you put it.  However, even without shimming, after about two weeks of use (without moving the position of the gripper), the gripper will \"set\" and you are unlikely to have problems after that.Why only 4 stars?  Only because I like my solid-brass buckles better---they are undetected by metal detectors and will never rust nor tarnish, and I think that the brushed finish is more attractive than the shiny finish.  Inevitable scratches and abrasions are very obvious on the shiny buckles, but are invisible on the \"brushed\"-finish buckles.\n",
      "------------------------------------------------\n",
      "After preprocessing:  [{'index': 28620, 'sentence': 'buckl designi varieti bought span least year almost certain made sever differ compani', 'rating': 1}, {'index': 28620, 'sentence': 'although rothco buckl made taiwan ident smallest detail solid brass buckl made america purchas year ago', 'rating': 1}, {'index': 28620, 'sentence': 'appar buckl general type made govern specifi design', 'rating': 1}, {'index': 28620, 'sentence': 'uniform belt util belt', 'rating': 1}, {'index': 28620, 'sentence': 'want util belt hang gear consid tdu inch beltorutg heavi duti web belt blackpro con happen like precis adjust abil wear belt loos actual need hold pant work desk', 'rating': 1}, {'index': 28620, 'sentence': 'like abl adjust belt insid extra belt materi visibl end belt stick outsid worn loos extend first belt loop worn tight', 'rating': 1}, {'index': 28620, 'sentence': 'tighten belt hurri e g stand shake visitor hand take second bare notic particular compar awkward fumbl requir tighten regular belt sever notch', 'rating': 1}, {'index': 28620, 'sentence': 'unfortun belt easi thread though belt loop slipperi leather belt normal problem howev hassl tri put web belt back go airport screen buckl qualitysinc manufactur million primarili militari use militari specif high qualiti price', 'rating': 1}, {'index': 28620, 'sentence': 'fit finish rothco gold silver buckl bought flawless', 'rating': 1}, {'index': 28620, 'sentence': 'sharp edg defect', 'rating': 1}, {'index': 28620, 'sentence': 'howev differ materi avail', 'rating': 1}, {'index': 28620, 'sentence': 'rothco buckl steel therefor send metal detector scream', 'rating': 1}, {'index': 28620, 'sentence': 'caution descript color brass mean gold finish solid brass metal construct similar silver mean white metal', 'rating': 1}, {'index': 28620, 'sentence': 'sever expens buckl design brush white brush yellow real solid brass metal detect airport metal scanner', 'rating': 1}, {'index': 28620, 'sentence': 'yes said white brass obvious most zinc call white brass', 'rating': 1}, {'index': 28620, 'sentence': 'rothco also sell solid brass buckl separ solid brass web belt buckl', 'rating': 1}, {'index': 28620, 'sentence': 'howev clip clip end end belt still steel set metal detector', 'rating': 1}, {'index': 28620, 'sentence': 'set beltwhen buckl pull end belt left left hand adjust length', 'rating': 1}, {'index': 28620, 'sentence': 'simultan pull loos gripper pin right thumb forefing right hand set gripper tight belt accident come loos', 'rating': 1}, {'index': 28620, 'sentence': 'becom habit even think sizeal wide standard size jean chino etc', 'rating': 1}, {'index': 28620, 'sentence': 'size usual length web belt includ buckl waist size', 'rating': 1}, {'index': 28620, 'sentence': 'waist buy belt', 'rating': 1}, {'index': 28620, 'sentence': 'overlap necessari', 'rating': 1}, {'index': 28620, 'sentence': 'choos want overlap outsid say first belt loop insid visibl', 'rating': 1}, {'index': 28620, 'sentence': 'belt easili shorten cut length like scissor quick shorten belt may need extra length someday web belt qualityth rothco web belt thin rigid comfort thicker web', 'rating': 1}, {'index': 28620, 'sentence': 'rothco web belt clip one end end goe buckl end slight rag', 'rating': 1}, {'index': 28620, 'sentence': 'problem might want appli littl glue end prevent fray', 'rating': 1}, {'index': 28620, 'sentence': 'elmer white household glue work well purpos elmer multipurpos white glue oz', 'rating': 1}, {'index': 28620, 'sentence': 'e appli rag end belt work let dri', 'rating': 1}, {'index': 28620, 'sentence': 'elmer glue water solubl flexibl dri', 'rating': 1}, {'index': 28620, 'sentence': 'also use beacon fabri tak water solubl beacon fabri tac perman adhes ounc', 'rating': 1}, {'index': 28620, 'sentence': 'harder satur fabric fabri tak particular good repair fray old belt', 'rating': 1}, {'index': 28620, 'sentence': 'fray usual year use occur busi end goe buckl', 'rating': 1}, {'index': 28620, 'sentence': 'taken advic sever extra inch insid cut fray section move clip move clip opposit end fray section insid thin vs thick soft vs rigid thicker web belt clip sometim compress enough catch buckl solut sever whack hammer cover peic cloth mar finish close clip tight', 'rating': 1}, {'index': 28620, 'sentence': 'unlik clip thinner rothco belt ever catch buckl', 'rating': 1}, {'index': 28620, 'sentence': 'soft belt fall first belt loop flop around', 'rating': 1}, {'index': 28620, 'sentence': 'howev rigid rothco web belt flop around unlik fall first belt loop', 'rating': 1}, {'index': 28620, 'sentence': 'short thin rigid web improv old thicker softer web problem buckl fall mani review report buckl fall belt gripper back side grip well', 'rating': 1}, {'index': 28620, 'sentence': 'appar reason standard design origin thicker softer belt web', 'rating': 1}, {'index': 28620, 'sentence': 'gripper grip thinner harder web tight', 'rating': 1}, {'index': 28620, 'sentence': 'origin setup belt pull hard set teeth', 'rating': 1}, {'index': 28620, 'sentence': 'temporarili shim scrap paper short length scotch invis tape buckl gripper tighter grip', 'rating': 1}, {'index': 28620, 'sentence': 'perhap best shim x piec sticki part post stick sticki side back side buckl gripper easi maneuv place stay put', 'rating': 1}, {'index': 28620, 'sentence': 'howev even without shim two week use without move posit gripper gripper set unlik problem star', 'rating': 1}, {'index': 28620, 'sentence': 'like solid brass buckl better undetect metal detector never rust tarnish think brush finish attract shini finish', 'rating': 1}, {'index': 28620, 'sentence': 'inevit scratch abras obvious shini buckl invis brush finish buckl', 'rating': 1}]\n",
      "1172750\n"
     ]
    }
   ],
   "source": [
    "print(\"Before preprocessing: \", reviews_data['reviewText'][28620])\n",
    "print(\"------------------------------------------------\")\n",
    "print(\"After preprocessing: \", [d for d in preprocessed_data if d['index'] == 28620])\n",
    "print(len(preprocessed_data))"
   ]
  },
  {
   "cell_type": "code",
   "execution_count": 6,
   "metadata": {},
   "outputs": [],
   "source": [
    "# Split Dataset into training and test\n",
    "indexes = [i for i in range(len(reviews_data))]\n",
    "\n",
    "Train_X_index, Test_X_index, Train_Y_review, Test_Y_review = model_selection.train_test_split(indexes,ratings,test_size=0.3, random_state=42)\n",
    "\n",
    "df = pd.DataFrame(preprocessed_data)\n",
    "\n",
    "train = df[df['index'].isin(Train_X_index)]\n",
    "Train_Y = train['rating'].tolist()\n",
    "Train_X = train['sentence'].tolist()\n",
    "Train_index = train['index'].tolist()\n",
    "\n",
    "\n",
    "test = df[df['index'].isin(Test_X_index)]\n",
    "Test_Y = test['rating'].tolist()\n",
    "Test_X = test['sentence'].tolist()\n",
    "Test_index = test['index'].tolist()\n",
    "\n",
    "all_sentences = Train_X + Test_X"
   ]
  },
  {
   "cell_type": "code",
   "execution_count": 7,
   "metadata": {},
   "outputs": [
    {
     "data": {
      "text/plain": [
       "1172750"
      ]
     },
     "execution_count": 7,
     "metadata": {},
     "output_type": "execute_result"
    }
   ],
   "source": [
    "len(df)"
   ]
  },
  {
   "cell_type": "code",
   "execution_count": 8,
   "metadata": {},
   "outputs": [],
   "source": [
    "# Encoding of label\n",
    "Encoder = LabelEncoder()\n",
    "Train_Y = Encoder.fit_transform(Train_Y)\n",
    "Test_Y = Encoder.fit_transform(Test_Y)\n",
    "Train_Y_review = Encoder.fit_transform(Train_Y_review)\n",
    "Test_Y_review = Encoder.fit_transform(Test_Y_review)"
   ]
  },
  {
   "cell_type": "code",
   "execution_count": 9,
   "metadata": {},
   "outputs": [],
   "source": [
    "# Word Vectorization\n",
    "        \n",
    "TfIdf_vect = TfidfVectorizer(max_features=10000)\n",
    "TfIdf_vect.fit(all_sentences)\n",
    "Train_X_TfIdf = TfIdf_vect.transform(Train_X)\n",
    "Test_X_TfIdf = TfIdf_vect.transform(Test_X)"
   ]
  },
  {
   "cell_type": "code",
   "execution_count": 10,
   "metadata": {},
   "outputs": [],
   "source": [
    "def find_Max_Element(scores):\n",
    "    c = Counter(scores)\n",
    "    negatives = c[0]\n",
    "    neutral = c[1]\n",
    "    positives = c[2]\n",
    "\n",
    "    if(neutral == positives and neutral > negatives and positives > negatives):\n",
    "        max_element = 2\n",
    "    elif (neutral == negatives and neutral > positives and negatives > positives):\n",
    "        max_element = 0\n",
    "    elif (neutral == negatives and negatives == positives):\n",
    "        max_element = 1\n",
    "    elif (positives == negatives and positives > neutral and negatives > neutral) :\n",
    "        max_element = 1\n",
    "    else:\n",
    "        max_element = max(set(scores), key = scores.count)\n",
    "        \n",
    "    return max_element"
   ]
  },
  {
   "cell_type": "code",
   "execution_count": 11,
   "metadata": {},
   "outputs": [
    {
     "name": "stdout",
     "output_type": "stream",
     "text": [
      "-9\n",
      "Accuracy:  79.61480949817573\n",
      "--------------------------------\n",
      "Confusion matrix:  [[  116   205  7676]\n",
      " [    8    43  9126]\n",
      " [    3    23 66395]]\n",
      "--------------------------------\n",
      "              precision    recall  f1-score   support\n",
      "\n",
      "    Negative       0.91      0.01      0.03      7997\n",
      "     Neutral       0.16      0.00      0.01      9177\n",
      "    Positive       0.80      1.00      0.89     66421\n",
      "\n",
      "    accuracy                           0.80     83595\n",
      "   macro avg       0.62      0.34      0.31     83595\n",
      "weighted avg       0.74      0.80      0.71     83595\n",
      "\n"
     ]
    }
   ],
   "source": [
    "# fit the training dataset on the NB classifier\n",
    "Naive = naive_bayes.MultinomialNB()\n",
    "Naive.fit(Train_X_TfIdf,Train_Y)\n",
    "\n",
    "# predict the labels on validation dataset\n",
    "predictions_NB_sentences = Naive.predict(Test_X_TfIdf)\n",
    "\n",
    "# Get grades by review\n",
    "predicted_scores_frame = pd.DataFrame(np.column_stack([Test_index, predictions_NB_sentences, Test_Y]), \n",
    "                               columns=['review Index', 'prediction', 'actual'])\n",
    "\n",
    "print(len(predicted_scores_frame['review Index'].unique()) - len(Test_Y_review))\n",
    "\n",
    "# for each review get all scores by review\n",
    "scores_by_review_frame = predicted_scores_frame.groupby('review Index')['prediction'].apply(list)\n",
    "majority_scores =  scores_by_review_frame.apply(find_Max_Element)\n",
    "predicted_scores = list(majority_scores)\n",
    "\n",
    "# for each review get its actual score\n",
    "actual_scores_frame = predicted_scores_frame.groupby('review Index')['actual'].first()\n",
    "actual_scores = list(actual_scores_frame)\n",
    "\n",
    "# get all indexes\n",
    "review_indexes = predicted_scores_frame['review Index'].unique()\n",
    "\n",
    "# Calculate Accuracy\n",
    "accuracy = accuracy_score(predicted_scores, actual_scores)*100\n",
    "print(\"Accuracy: \", accuracy)\n",
    "print(\"--------------------------------\")\n",
    "\n",
    "# Confusion Matrix\n",
    "cm = confusion_matrix(actual_scores, predicted_scores)\n",
    "print(\"Confusion matrix: \", cm)\n",
    "print(\"--------------------------------\")\n",
    "\n",
    "# Classification Report\n",
    "my_tags = ['Negative','Neutral','Positive']\n",
    "report = classification_report(actual_scores, predicted_scores, target_names=my_tags);\n",
    "print(report)"
   ]
  },
  {
   "cell_type": "code",
   "execution_count": 12,
   "metadata": {},
   "outputs": [],
   "source": [
    "# write indexes of false classified reviews to a txt file\n",
    "\n",
    "data = {\"review_index\": review_indexes, \"predict\": predicted_scores, \"actual\": actual_scores}\n",
    "\n",
    "review_dataframe = pd.DataFrame(data)\n",
    "\n",
    "false_classified_indexes = review_dataframe['review_index'][review_dataframe['predict'] != review_dataframe['actual']]\n",
    "false_classified_indexes = list(false_classified_indexes)\n",
    "\n",
    "with open(\"indexes/NaiveBayes_TfIdf_Snowball.txt\", 'w') as f:\n",
    "    for item in false_classified_indexes:\n",
    "        f.write(\"%s\\n\" % item)"
   ]
  },
  {
   "cell_type": "code",
   "execution_count": null,
   "metadata": {},
   "outputs": [],
   "source": []
  }
 ],
 "metadata": {
  "kernelspec": {
   "display_name": "Python 3",
   "language": "python",
   "name": "python3"
  },
  "language_info": {
   "codemirror_mode": {
    "name": "ipython",
    "version": 3
   },
   "file_extension": ".py",
   "mimetype": "text/x-python",
   "name": "python",
   "nbconvert_exporter": "python",
   "pygments_lexer": "ipython3",
   "version": "3.7.0"
  }
 },
 "nbformat": 4,
 "nbformat_minor": 2
}
