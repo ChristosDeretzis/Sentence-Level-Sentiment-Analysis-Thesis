{
 "cells": [
  {
   "cell_type": "code",
   "execution_count": 2,
   "metadata": {},
   "outputs": [],
   "source": [
    "import numpy as np\n",
    "import pandas as pd"
   ]
  },
  {
   "cell_type": "code",
   "execution_count": 3,
   "metadata": {},
   "outputs": [],
   "source": [
    "# read the dataset\n",
    "reviews_data = pd.read_json(r\"C:\\Users\\user\\Documents\\UoM\\Thesis\\data\\All_Beauty_5.json\", lines=True)"
   ]
  },
  {
   "cell_type": "code",
   "execution_count": 4,
   "metadata": {},
   "outputs": [
    {
     "data": {
      "text/html": [
       "<div>\n",
       "<style scoped>\n",
       "    .dataframe tbody tr th:only-of-type {\n",
       "        vertical-align: middle;\n",
       "    }\n",
       "\n",
       "    .dataframe tbody tr th {\n",
       "        vertical-align: top;\n",
       "    }\n",
       "\n",
       "    .dataframe thead th {\n",
       "        text-align: right;\n",
       "    }\n",
       "</style>\n",
       "<table border=\"1\" class=\"dataframe\">\n",
       "  <thead>\n",
       "    <tr style=\"text-align: right;\">\n",
       "      <th></th>\n",
       "      <th>asin</th>\n",
       "      <th>image</th>\n",
       "      <th>overall</th>\n",
       "      <th>reviewText</th>\n",
       "      <th>reviewTime</th>\n",
       "      <th>reviewerID</th>\n",
       "      <th>reviewerName</th>\n",
       "      <th>style</th>\n",
       "      <th>summary</th>\n",
       "      <th>unixReviewTime</th>\n",
       "      <th>verified</th>\n",
       "      <th>vote</th>\n",
       "    </tr>\n",
       "  </thead>\n",
       "  <tbody>\n",
       "    <tr>\n",
       "      <th>0</th>\n",
       "      <td>B0000530HU</td>\n",
       "      <td>NaN</td>\n",
       "      <td>5</td>\n",
       "      <td>As advertised. Reasonably priced</td>\n",
       "      <td>09 1, 2016</td>\n",
       "      <td>A3CIUOJXQ5VDQ2</td>\n",
       "      <td>Shelly F</td>\n",
       "      <td>{'Size:': ' 7.0 oz', 'Flavor:': ' Classic Ice ...</td>\n",
       "      <td>Five Stars</td>\n",
       "      <td>1472688000</td>\n",
       "      <td>True</td>\n",
       "      <td>NaN</td>\n",
       "    </tr>\n",
       "    <tr>\n",
       "      <th>1</th>\n",
       "      <td>B0000530HU</td>\n",
       "      <td>NaN</td>\n",
       "      <td>5</td>\n",
       "      <td>Like the oder and the feel when I put it on my...</td>\n",
       "      <td>11 14, 2013</td>\n",
       "      <td>A3H7T87S984REU</td>\n",
       "      <td>houserules18</td>\n",
       "      <td>{'Size:': ' 7.0 oz', 'Flavor:': ' Classic Ice ...</td>\n",
       "      <td>Good for the face</td>\n",
       "      <td>1384387200</td>\n",
       "      <td>True</td>\n",
       "      <td>NaN</td>\n",
       "    </tr>\n",
       "    <tr>\n",
       "      <th>2</th>\n",
       "      <td>B0000530HU</td>\n",
       "      <td>NaN</td>\n",
       "      <td>1</td>\n",
       "      <td>I bought this to smell nice after I shave.  Wh...</td>\n",
       "      <td>08 18, 2013</td>\n",
       "      <td>A3J034YH7UG4KT</td>\n",
       "      <td>Adam</td>\n",
       "      <td>{'Size:': ' 7.0 oz', 'Flavor:': ' Classic Ice ...</td>\n",
       "      <td>Smells awful</td>\n",
       "      <td>1376784000</td>\n",
       "      <td>True</td>\n",
       "      <td>NaN</td>\n",
       "    </tr>\n",
       "    <tr>\n",
       "      <th>3</th>\n",
       "      <td>B0000530HU</td>\n",
       "      <td>NaN</td>\n",
       "      <td>5</td>\n",
       "      <td>HEY!! I am an Aqua Velva Man and absolutely lo...</td>\n",
       "      <td>05 3, 2011</td>\n",
       "      <td>A2UEO5XR3598GI</td>\n",
       "      <td>Rich K</td>\n",
       "      <td>{'Size:': ' 7.0 oz', 'Flavor:': ' Classic Ice ...</td>\n",
       "      <td>Truth is There IS Nothing Like an AQUA VELVA MAN.</td>\n",
       "      <td>1304380800</td>\n",
       "      <td>False</td>\n",
       "      <td>25</td>\n",
       "    </tr>\n",
       "    <tr>\n",
       "      <th>4</th>\n",
       "      <td>B00006L9LC</td>\n",
       "      <td>NaN</td>\n",
       "      <td>5</td>\n",
       "      <td>If you ever want to feel pampered by a shampoo...</td>\n",
       "      <td>05 6, 2011</td>\n",
       "      <td>A3SFRT223XXWF7</td>\n",
       "      <td>C. C. Christian</td>\n",
       "      <td>{'Size:': ' 200ml/6.7oz'}</td>\n",
       "      <td>Bvlgari Shampoo</td>\n",
       "      <td>1304640000</td>\n",
       "      <td>True</td>\n",
       "      <td>3</td>\n",
       "    </tr>\n",
       "  </tbody>\n",
       "</table>\n",
       "</div>"
      ],
      "text/plain": [
       "         asin image  overall  \\\n",
       "0  B0000530HU   NaN        5   \n",
       "1  B0000530HU   NaN        5   \n",
       "2  B0000530HU   NaN        1   \n",
       "3  B0000530HU   NaN        5   \n",
       "4  B00006L9LC   NaN        5   \n",
       "\n",
       "                                          reviewText   reviewTime  \\\n",
       "0                   As advertised. Reasonably priced   09 1, 2016   \n",
       "1  Like the oder and the feel when I put it on my...  11 14, 2013   \n",
       "2  I bought this to smell nice after I shave.  Wh...  08 18, 2013   \n",
       "3  HEY!! I am an Aqua Velva Man and absolutely lo...   05 3, 2011   \n",
       "4  If you ever want to feel pampered by a shampoo...   05 6, 2011   \n",
       "\n",
       "       reviewerID     reviewerName  \\\n",
       "0  A3CIUOJXQ5VDQ2         Shelly F   \n",
       "1  A3H7T87S984REU     houserules18   \n",
       "2  A3J034YH7UG4KT             Adam   \n",
       "3  A2UEO5XR3598GI           Rich K   \n",
       "4  A3SFRT223XXWF7  C. C. Christian   \n",
       "\n",
       "                                               style  \\\n",
       "0  {'Size:': ' 7.0 oz', 'Flavor:': ' Classic Ice ...   \n",
       "1  {'Size:': ' 7.0 oz', 'Flavor:': ' Classic Ice ...   \n",
       "2  {'Size:': ' 7.0 oz', 'Flavor:': ' Classic Ice ...   \n",
       "3  {'Size:': ' 7.0 oz', 'Flavor:': ' Classic Ice ...   \n",
       "4                          {'Size:': ' 200ml/6.7oz'}   \n",
       "\n",
       "                                             summary  unixReviewTime  \\\n",
       "0                                         Five Stars      1472688000   \n",
       "1                                  Good for the face      1384387200   \n",
       "2                                       Smells awful      1376784000   \n",
       "3  Truth is There IS Nothing Like an AQUA VELVA MAN.      1304380800   \n",
       "4                                    Bvlgari Shampoo      1304640000   \n",
       "\n",
       "   verified vote  \n",
       "0      True  NaN  \n",
       "1      True  NaN  \n",
       "2      True  NaN  \n",
       "3     False   25  \n",
       "4      True    3  "
      ]
     },
     "execution_count": 4,
     "metadata": {},
     "output_type": "execute_result"
    }
   ],
   "source": [
    "# overview of the data\n",
    "reviews_data.head()"
   ]
  },
  {
   "cell_type": "code",
   "execution_count": 23,
   "metadata": {},
   "outputs": [
    {
     "name": "stdout",
     "output_type": "stream",
     "text": [
      "<class 'pandas.core.frame.DataFrame'>\n",
      "RangeIndex: 5269 entries, 0 to 5268\n",
      "Data columns (total 12 columns):\n",
      "asin              5269 non-null object\n",
      "image             98 non-null object\n",
      "overall           5269 non-null int64\n",
      "reviewText        5264 non-null object\n",
      "reviewTime        5269 non-null object\n",
      "reviewerID        5269 non-null object\n",
      "reviewerName      5269 non-null object\n",
      "style             4624 non-null object\n",
      "summary           5264 non-null object\n",
      "unixReviewTime    5269 non-null int64\n",
      "verified          5269 non-null bool\n",
      "vote              552 non-null object\n",
      "dtypes: bool(1), int64(2), object(9)\n",
      "memory usage: 458.0+ KB\n"
     ]
    }
   ],
   "source": [
    "reviews_data.info()"
   ]
  },
  {
   "cell_type": "code",
   "execution_count": 26,
   "metadata": {},
   "outputs": [
    {
     "name": "stdout",
     "output_type": "stream",
     "text": [
      "False    5264\n",
      "Name: reviewText, dtype: int64\n"
     ]
    }
   ],
   "source": [
    "# Check if there are columns where reviews are null\n",
    "print(reviews_data['reviewText'].isna().value_counts())\n",
    "\n",
    "# Drop the products whose values are null\n",
    "reviews_data = reviews_data[reviews_data['reviewText'].notna()]"
   ]
  },
  {
   "cell_type": "code",
   "execution_count": 46,
   "metadata": {},
   "outputs": [
    {
     "name": "stdout",
     "output_type": "stream",
     "text": [
      "Basic Statistics on the dataset\n",
      "--------------------------------\n",
      "Size of the dataset:  63168\n",
      "Number of unique users:  990\n",
      "Number of unique products:  85\n",
      "Average number of reviews per user:  5\n",
      "Average number of reviews per product:  62\n",
      "Number of max reviews of a user:  12\n",
      "Number of max reviews of a product:  1792\n"
     ]
    }
   ],
   "source": [
    "# Basic statistics on the dataset\n",
    "number_of_reviews = reviews_data.size\n",
    "unique_users = reviews_data['reviewerID'].nunique()\n",
    "unique_products = reviews_data['asin'].nunique()\n",
    "Average_reviews_per_user = round(reviews_data.groupby('reviewerID').size().mean())\n",
    "Average_reviews_per_product = round(reviews_data.groupby('asin').size().mean())\n",
    "userMaxReviews = max(reviews_data.groupby('reviewerID').size())\n",
    "productMaxReviews = max(reviews_data.groupby('asin').size())\n",
    "\n",
    "print(\"Basic Statistics on the dataset\")\n",
    "print(\"--------------------------------\")\n",
    "print(\"Size of the dataset: \", number_of_reviews)\n",
    "print(\"Number of unique users: \", unique_users)\n",
    "print(\"Number of unique products: \", unique_products)\n",
    "print(\"Average number of reviews per user: \", Average_reviews_per_user)\n",
    "print(\"Average number of reviews per product: \", Average_reviews_per_product)\n",
    "print(\"Number of max reviews of a user: \", userMaxReviews)\n",
    "print(\"Number of max reviews of a product: \", productMaxReviews)"
   ]
  },
  {
   "cell_type": "code",
   "execution_count": 47,
   "metadata": {},
   "outputs": [
    {
     "data": {
      "text/plain": [
       "5    4644\n",
       "4     332\n",
       "1     115\n",
       "3     109\n",
       "2      64\n",
       "Name: overall, dtype: int64"
      ]
     },
     "execution_count": 47,
     "metadata": {},
     "output_type": "execute_result"
    }
   ],
   "source": [
    "# Frequency of each rating\n",
    "reviews_data['overall'].value_counts()"
   ]
  }
 ],
 "metadata": {
  "kernelspec": {
   "display_name": "Python 3",
   "language": "python",
   "name": "python3"
  },
  "language_info": {
   "codemirror_mode": {
    "name": "ipython",
    "version": 3
   },
   "file_extension": ".py",
   "mimetype": "text/x-python",
   "name": "python",
   "nbconvert_exporter": "python",
   "pygments_lexer": "ipython3",
   "version": "3.7.0"
  }
 },
 "nbformat": 4,
 "nbformat_minor": 2
}
