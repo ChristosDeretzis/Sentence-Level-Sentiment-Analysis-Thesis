{
 "cells": [
  {
   "cell_type": "code",
   "execution_count": 1,
   "metadata": {},
   "outputs": [],
   "source": [
    "import numpy as np\n",
    "import pandas as pd\n",
    "import re\n",
    "from nltk.tokenize import sent_tokenize, word_tokenize\n",
    "# from nltk.tokenizer import tokenize\n",
    "from nltk.corpus import stopwords\n",
    "from sklearn import model_selection\n",
    "from sklearn.preprocessing import LabelEncoder\n",
    "from sklearn.feature_extraction.text import TfidfVectorizer\n",
    "from sklearn import model_selection, naive_bayes, svm\n",
    "from sklearn.metrics import accuracy_score, confusion_matrix, classification_report\n",
    "from collections import Counter\n",
    "import nltk.data\n",
    "\n",
    "tokenizer = nltk.data.load('tokenizers/punkt/english.pickle')"
   ]
  },
  {
   "cell_type": "code",
   "execution_count": 2,
   "metadata": {},
   "outputs": [],
   "source": [
    "# read the dataset\n",
    "reviews_data = pd.read_json(r\"C:\\Users\\user\\Documents\\UoM\\Thesis\\data\\Clothing_Shoes_and_Jewelry_5.json\", lines=True)\n",
    "\n",
    "# Keep only the review text and the grade\n",
    "reviews_data = reviews_data[['overall', 'reviewText']]\n",
    "\n",
    "\n",
    "# Drop the products whose values are null\n",
    "reviews_data = reviews_data[reviews_data['reviewText'].notna()]"
   ]
  },
  {
   "cell_type": "code",
   "execution_count": 3,
   "metadata": {},
   "outputs": [],
   "source": [
    "ratings = []\n",
    "for index,entry in enumerate(reviews_data['overall']):\n",
    "    if entry == 1.0 or entry == 2.0:\n",
    "        ratings.append(-1)\n",
    "    elif entry == 3.0:\n",
    "        ratings.append(0)\n",
    "    elif entry == 4.0 or entry == 5.0:\n",
    "        ratings.append(1)"
   ]
  },
  {
   "cell_type": "code",
   "execution_count": 21,
   "metadata": {},
   "outputs": [
    {
     "name": "stdout",
     "output_type": "stream",
     "text": [
      "0\n",
      "10000\n",
      "20000\n",
      "30000\n",
      "40000\n",
      "50000\n",
      "60000\n",
      "70000\n",
      "80000\n",
      "90000\n",
      "100000\n",
      "110000\n",
      "120000\n",
      "130000\n",
      "140000\n",
      "150000\n",
      "160000\n",
      "170000\n",
      "180000\n",
      "190000\n",
      "200000\n",
      "210000\n",
      "220000\n",
      "230000\n",
      "240000\n",
      "250000\n",
      "260000\n",
      "270000\n"
     ]
    }
   ],
   "source": [
    "\"\"\"\"\n",
    "Split each review into sentences\n",
    "and preprocess each sentence\n",
    "\"\"\"\n",
    "# stopwords = stopwords.words('english')\n",
    "\n",
    "preprocessed_data = []\n",
    "index = 0\n",
    "for review in reviews_data['reviewText']:\n",
    "    if(index % 10000 == 0):\n",
    "        print(index)\n",
    "    review_sentences = tokenizer.tokenize(review)\n",
    "    for sentence in review_sentences:\n",
    "        sentence = re.sub('[^a-zA-Z]', ' ', sentence)\n",
    "        sentence = sentence.lower()\n",
    "        sentence = word_tokenize(sentence)\n",
    "#         sentence = [word for word in sentence if not word in stopwords]\n",
    "        sentence = ' '.join(sentence)\n",
    "        if(sentence != ''):\n",
    "            review = {}\n",
    "            review[\"index\"] = index\n",
    "            review[\"sentence\"] = sentence\n",
    "            review[\"rating\"] = ratings[index]\n",
    "            preprocessed_data.append(review)\n",
    "    index += 1"
   ]
  },
  {
   "cell_type": "code",
   "execution_count": 22,
   "metadata": {},
   "outputs": [
    {
     "name": "stdout",
     "output_type": "stream",
     "text": [
      "Before preprocessing:  BUCKLE DESIGNI have a variety of these, bought over a span of at least 20 years, and almost certainly made by several different companies. Although the Rothco buckles are \"made in Taiwan\", they are identical (down to the smallest detail) to solid-brass buckles \"made in America\" which I purchased 15 years ago.  Apparently, all buckles of this general type are made to the same government specified design.  These are uniform belts NOT utility belts.  If you want utility belts to hang gear from, consider5.11 TDU 1.5-Inch BeltorUTG Heavy Duty Web Belt - BlackPros/Cons:  I happen to like the precise adjustment, and the ability to wear a belt very loosely when I don't actually need it to hold up my pants---such as when working at my desk. I like being able to adjust the belt on the \"inside\" (where the extra belt material is not visible), so that the end of the belt sticks out only 1\" or so on the outside when worn loosely, and extends to my first belt loop when worn tight.  Tightening such a belt in a hurry (e.g., if you have to stand up and shake a visitors hand) takes just a second and is barely noticeable---particularly compared to the awkward fumbling required to tighten a \"regular\" belt by several notches.  Unfortunately, the belts are not so easy to thread though your belt loops as are slippery leather belts---not normally a problem, however it can be a hassle trying to put your web belt back on after going through airport screening.BUCKLE QUALITYSince these are manufactured by the millions primarily for military use (and to military specifications) they are high quality for the price. The fit and finish of the Rothco \"gold\" and \"silver\" buckles I bought was flawless. No sharp edges, no defects. However, different materials ARE available. The Rothco buckles  are steel, and therefore send metal detectors screaming. Caution: The description of the color \"brass\" means \"gold finish\" NOT solid brass metal construction, similarly \"silver\" means \"white metal\". I have several expensive buckles of the same design in brushed-white and brushed-yellow real solid brass metal, which are NOT detected by airport metal scanners.  Yes I said \"white\" brass---obviously mostly zinc---but called \"white brass\".  Rothco also sells solid brass buckles separately:4406 SOLID BRASS WEB BELT BUCKLE. However, the clip (or clips) on the end (or ends) of these belts are still steel, and will set off metal detectors.\"Setting\" your BeltWhen you \"buckle up, pull the end of the belt to the left with your left hand to adjust the length.  Simultaneously pull the the loose \"gripper pin\" to the right with the thumb and forefinger of your right hand---this sets the gripper tight so that the belt won't accidentally come loose.  After a while it becomes such a habit you don't even think about.SIZEAll are 1 1/4\" wide, the standard size for jeans, chinos, etc.  The size (usually 44\" or 54\") is the length of the web belt, NOT including the buckle and is NOT a waist size. If your waist is >38\", then buy a 54\" belt. Some overlap is necessary. You can choose where you want the overlap---on the outside, say to your first belt loop; or on the inside (where it isn't visible); or both. The belts can easily be shortened (cut to any length you like with scissors), but don't be too quick to shorten the belts---you may need the extra length someday.WEBBING (BELT) QUALITYThe Rothco web belts are thin and rigid, but are just as comfortable as thicker webbing.  Rothco web belts have a clip at only one end (the end which goes through the buckle)---the other end is slightly ragged. Not a problem, but you might want to apply a little glue to the end to prevent fraying.  Elmer's white household glue works well for this purpose.Elmer's All Multipurpose White Glue, 7 5/8 oz. (E379)Apply to the ragged end of the belt, work in, let dry.  Elmer's glue is water soluble and flexible when dry.  I've also used Beacon Fabri-tak which is not water soluble.Beacon Fabri-Tac Permanent Adhesive, 4-Ounce.  It is harder to saturate the fabric with Fabri-tak, but it is particularly good for repairing fraying on old belts.  Fraying (usually after years of use) occurs on the \"business end\" that goes through the buckle.  If you've taken my advice, and have several extra inches on the \"inside\", you can cut off the frayed section and move the clip---or you can move the clip to the opposite end, so that the frayed section is now on the inside.Thin vs Thick & Soft vs Rigid:  On thicker web belts, the clip is sometimes not compressed enough and catches in the buckle--the solution is several whacks with a hammer (cover with a peice of cloth so you don't mar the finish) to close the clip more tightly. It is unlikely that the clips of the thinner Rothco belts will ever catch in the buckles.  Soft belts can \"fall out\" of your first belt loop and flop around.  However, the more rigid Rothco web belts don't flop around, and are unlikely to \"fall out\" of the first belt loop.  In short, the thin rigid webbing is an improvement over the old thicker, softer, webbing.PROBLEM--buckle \"falls off\"Many reviewers report that the buckle \"falls off\" the belt because the gripper (on the back side) doesn't grip well.  Apparently the reason for this is the \"standard\" design, which was originally for the thicker softer belt webbing.  The gripper doesn't grip the thinner harder webbing so tightly.  When you originally setup the belt, pull hard to set the teeth.  Temporarily, you can \"shim\" it up with a scrap of paper,or a short length of Scotch \"invisible\" tape on the buckle under the gripper, for a tighter grip.  Perhaps the best \"shim\" is a 1\" x 1/2\" piece of the sticky part of a \"Post-it\" (stick the sticky side to the back side of the buckle under the gripper)---because it is easy to maneuver into place, and will stay where you put it.  However, even without shimming, after about two weeks of use (without moving the position of the gripper), the gripper will \"set\" and you are unlikely to have problems after that.Why only 4 stars?  Only because I like my solid-brass buckles better---they are undetected by metal detectors and will never rust nor tarnish, and I think that the brushed finish is more attractive than the shiny finish.  Inevitable scratches and abrasions are very obvious on the shiny buckles, but are invisible on the \"brushed\"-finish buckles.\n",
      "------------------------------------------------\n",
      "After preprocessing:  [{'index': 28620, 'sentence': 'buckle designi have a variety of these bought over a span of at least years and almost certainly made by several different companies', 'rating': 1}, {'index': 28620, 'sentence': 'although the rothco buckles are made in taiwan they are identical down to the smallest detail to solid brass buckles made in america which i purchased years ago', 'rating': 1}, {'index': 28620, 'sentence': 'apparently all buckles of this general type are made to the same government specified design', 'rating': 1}, {'index': 28620, 'sentence': 'these are uniform belts not utility belts', 'rating': 1}, {'index': 28620, 'sentence': 'if you want utility belts to hang gear from consider tdu inch beltorutg heavy duty web belt blackpros cons i happen to like the precise adjustment and the ability to wear a belt very loosely when i don t actually need it to hold up my pants such as when working at my desk', 'rating': 1}, {'index': 28620, 'sentence': 'i like being able to adjust the belt on the inside where the extra belt material is not visible so that the end of the belt sticks out only or so on the outside when worn loosely and extends to my first belt loop when worn tight', 'rating': 1}, {'index': 28620, 'sentence': 'tightening such a belt in a hurry e g if you have to stand up and shake a visitors hand takes just a second and is barely noticeable particularly compared to the awkward fumbling required to tighten a regular belt by several notches', 'rating': 1}, {'index': 28620, 'sentence': 'unfortunately the belts are not so easy to thread though your belt loops as are slippery leather belts not normally a problem however it can be a hassle trying to put your web belt back on after going through airport screening buckle qualitysince these are manufactured by the millions primarily for military use and to military specifications they are high quality for the price', 'rating': 1}, {'index': 28620, 'sentence': 'the fit and finish of the rothco gold and silver buckles i bought was flawless', 'rating': 1}, {'index': 28620, 'sentence': 'no sharp edges no defects', 'rating': 1}, {'index': 28620, 'sentence': 'however different materials are available', 'rating': 1}, {'index': 28620, 'sentence': 'the rothco buckles are steel and therefore send metal detectors screaming', 'rating': 1}, {'index': 28620, 'sentence': 'caution the description of the color brass means gold finish not solid brass metal construction similarly silver means white metal', 'rating': 1}, {'index': 28620, 'sentence': 'i have several expensive buckles of the same design in brushed white and brushed yellow real solid brass metal which are not detected by airport metal scanners', 'rating': 1}, {'index': 28620, 'sentence': 'yes i said white brass obviously mostly zinc but called white brass', 'rating': 1}, {'index': 28620, 'sentence': 'rothco also sells solid brass buckles separately solid brass web belt buckle', 'rating': 1}, {'index': 28620, 'sentence': 'however the clip or clips on the end or ends of these belts are still steel and will set off metal detectors', 'rating': 1}, {'index': 28620, 'sentence': 'setting your beltwhen you buckle up pull the end of the belt to the left with your left hand to adjust the length', 'rating': 1}, {'index': 28620, 'sentence': 'simultaneously pull the the loose gripper pin to the right with the thumb and forefinger of your right hand this sets the gripper tight so that the belt won t accidentally come loose', 'rating': 1}, {'index': 28620, 'sentence': 'after a while it becomes such a habit you don t even think about sizeall are wide the standard size for jeans chinos etc', 'rating': 1}, {'index': 28620, 'sentence': 'the size usually or is the length of the web belt not including the buckle and is not a waist size', 'rating': 1}, {'index': 28620, 'sentence': 'if your waist is then buy a belt', 'rating': 1}, {'index': 28620, 'sentence': 'some overlap is necessary', 'rating': 1}, {'index': 28620, 'sentence': 'you can choose where you want the overlap on the outside say to your first belt loop or on the inside where it isn t visible or both', 'rating': 1}, {'index': 28620, 'sentence': 'the belts can easily be shortened cut to any length you like with scissors but don t be too quick to shorten the belts you may need the extra length someday webbing belt qualitythe rothco web belts are thin and rigid but are just as comfortable as thicker webbing', 'rating': 1}, {'index': 28620, 'sentence': 'rothco web belts have a clip at only one end the end which goes through the buckle the other end is slightly ragged', 'rating': 1}, {'index': 28620, 'sentence': 'not a problem but you might want to apply a little glue to the end to prevent fraying', 'rating': 1}, {'index': 28620, 'sentence': 'elmer s white household glue works well for this purpose elmer s all multipurpose white glue oz', 'rating': 1}, {'index': 28620, 'sentence': 'e apply to the ragged end of the belt work in let dry', 'rating': 1}, {'index': 28620, 'sentence': 'elmer s glue is water soluble and flexible when dry', 'rating': 1}, {'index': 28620, 'sentence': 'i ve also used beacon fabri tak which is not water soluble beacon fabri tac permanent adhesive ounce', 'rating': 1}, {'index': 28620, 'sentence': 'it is harder to saturate the fabric with fabri tak but it is particularly good for repairing fraying on old belts', 'rating': 1}, {'index': 28620, 'sentence': 'fraying usually after years of use occurs on the business end that goes through the buckle', 'rating': 1}, {'index': 28620, 'sentence': 'if you ve taken my advice and have several extra inches on the inside you can cut off the frayed section and move the clip or you can move the clip to the opposite end so that the frayed section is now on the inside thin vs thick soft vs rigid on thicker web belts the clip is sometimes not compressed enough and catches in the buckle the solution is several whacks with a hammer cover with a peice of cloth so you don t mar the finish to close the clip more tightly', 'rating': 1}, {'index': 28620, 'sentence': 'it is unlikely that the clips of the thinner rothco belts will ever catch in the buckles', 'rating': 1}, {'index': 28620, 'sentence': 'soft belts can fall out of your first belt loop and flop around', 'rating': 1}, {'index': 28620, 'sentence': 'however the more rigid rothco web belts don t flop around and are unlikely to fall out of the first belt loop', 'rating': 1}, {'index': 28620, 'sentence': 'in short the thin rigid webbing is an improvement over the old thicker softer webbing problem buckle falls off many reviewers report that the buckle falls off the belt because the gripper on the back side doesn t grip well', 'rating': 1}, {'index': 28620, 'sentence': 'apparently the reason for this is the standard design which was originally for the thicker softer belt webbing', 'rating': 1}, {'index': 28620, 'sentence': 'the gripper doesn t grip the thinner harder webbing so tightly', 'rating': 1}, {'index': 28620, 'sentence': 'when you originally setup the belt pull hard to set the teeth', 'rating': 1}, {'index': 28620, 'sentence': 'temporarily you can shim it up with a scrap of paper or a short length of scotch invisible tape on the buckle under the gripper for a tighter grip', 'rating': 1}, {'index': 28620, 'sentence': 'perhaps the best shim is a x piece of the sticky part of a post it stick the sticky side to the back side of the buckle under the gripper because it is easy to maneuver into place and will stay where you put it', 'rating': 1}, {'index': 28620, 'sentence': 'however even without shimming after about two weeks of use without moving the position of the gripper the gripper will set and you are unlikely to have problems after that why only stars', 'rating': 1}, {'index': 28620, 'sentence': 'only because i like my solid brass buckles better they are undetected by metal detectors and will never rust nor tarnish and i think that the brushed finish is more attractive than the shiny finish', 'rating': 1}, {'index': 28620, 'sentence': 'inevitable scratches and abrasions are very obvious on the shiny buckles but are invisible on the brushed finish buckles', 'rating': 1}]\n",
      "1175245\n"
     ]
    }
   ],
   "source": [
    "print(\"Before preprocessing: \", reviews_data['reviewText'][28620])\n",
    "print(\"------------------------------------------------\")\n",
    "print(\"After preprocessing: \", [d for d in preprocessed_data if d['index'] == 28620])\n",
    "print(len(preprocessed_data))"
   ]
  },
  {
   "cell_type": "code",
   "execution_count": 23,
   "metadata": {},
   "outputs": [],
   "source": [
    "# Split Dataset into training and test\n",
    "indexes = [i for i in range(len(reviews_data))]\n",
    "\n",
    "Train_X_index, Test_X_index, Train_Y_review, Test_Y_review = model_selection.train_test_split(indexes,ratings,test_size=0.3)\n",
    "\n",
    "df = pd.DataFrame(preprocessed_data)\n",
    "\n",
    "train = df[df['index'].isin(Train_X_index)]\n",
    "Train_Y = train['rating'].tolist()\n",
    "Train_X = train['sentence'].tolist()\n",
    "Train_index = train['index'].tolist()\n",
    "\n",
    "\n",
    "test = df[df['index'].isin(Test_X_index)]\n",
    "Test_Y = test['rating'].tolist()\n",
    "Test_X = test['sentence'].tolist()\n",
    "Test_index = test['index'].tolist()\n",
    "\n",
    "all_sentences = Train_X + Test_X"
   ]
  },
  {
   "cell_type": "code",
   "execution_count": 24,
   "metadata": {},
   "outputs": [
    {
     "data": {
      "text/plain": [
       "1175245"
      ]
     },
     "execution_count": 24,
     "metadata": {},
     "output_type": "execute_result"
    }
   ],
   "source": [
    "len(df)"
   ]
  },
  {
   "cell_type": "code",
   "execution_count": 25,
   "metadata": {},
   "outputs": [],
   "source": [
    "# Encoding of label\n",
    "Encoder = LabelEncoder()\n",
    "Train_Y = Encoder.fit_transform(Train_Y)\n",
    "Test_Y = Encoder.fit_transform(Test_Y)\n",
    "Train_Y_review = Encoder.fit_transform(Train_Y_review)\n",
    "Test_Y_review = Encoder.fit_transform(Test_Y_review)"
   ]
  },
  {
   "cell_type": "code",
   "execution_count": 26,
   "metadata": {},
   "outputs": [],
   "source": [
    "# Word Vectorization\n",
    "        \n",
    "TfIdf_vect = TfidfVectorizer(max_features=30000)\n",
    "TfIdf_vect.fit(all_sentences)\n",
    "Train_X_TfIdf = TfIdf_vect.transform(Train_X)\n",
    "Test_X_TfIdf = TfIdf_vect.transform(Test_X)"
   ]
  },
  {
   "cell_type": "code",
   "execution_count": 27,
   "metadata": {},
   "outputs": [],
   "source": [
    "def find_Max_Element(scores):\n",
    "    return  max(set(scores), key = scores.count)"
   ]
  },
  {
   "cell_type": "code",
   "execution_count": 30,
   "metadata": {},
   "outputs": [
    {
     "name": "stdout",
     "output_type": "stream",
     "text": [
      "-11\n",
      "Accuracy:  79.6753316665271\n",
      "Confusion matrix:  [[  225     6  7677]\n",
      " [   53     6  9208]\n",
      " [   36    10 66372]]\n",
      "             precision    recall  f1-score   support\n",
      "\n",
      "   Negative       0.72      0.03      0.05      7908\n",
      "    Neutral       0.27      0.00      0.00      9267\n",
      "   Positive       0.80      1.00      0.89     66418\n",
      "\n",
      "avg / total       0.73      0.80      0.71     83593\n",
      "\n"
     ]
    }
   ],
   "source": [
    "# fit the training dataset on the NB classifier\n",
    "Naive = naive_bayes.MultinomialNB()\n",
    "Naive.fit(Train_X_TfIdf,Train_Y)\n",
    "\n",
    "# predict the labels on validation dataset\n",
    "predictions_NB_sentences = Naive.predict(Test_X_TfIdf)\n",
    "\n",
    "# Get grades by review\n",
    "predicted_scores_frame = pd.DataFrame(np.column_stack([Test_index, predictions_NB_sentences, Test_Y]), \n",
    "                               columns=['review Index', 'prediction', 'actual'])\n",
    "\n",
    "print(len(predicted_scores_frame['review Index'].unique()) - len(Test_Y_review))\n",
    "\n",
    "# for each review get all scores by review\n",
    "scores_by_review_frame = predicted_scores_frame.groupby('review Index')['prediction'].apply(list)\n",
    "majority_scores =  scores_by_review_frame.apply(find_Max_Element)\n",
    "predicted_scores = list(majority_scores)\n",
    "\n",
    "# for each review get its actual score\n",
    "actual_scores_frame = predicted_scores_frame.groupby('review Index')['actual'].first()\n",
    "actual_scores = list(actual_scores_frame)\n",
    "\n",
    "# Calculate Accuracy\n",
    "accuracy = accuracy_score(predicted_scores, actual_scores)*100\n",
    "print(\"Accuracy: \", accuracy)\n",
    "\n",
    "# Confusion Matrix\n",
    "cm = confusion_matrix(actual_scores, predicted_scores)\n",
    "print(\"Confusion matrix: \", cm)\n",
    "\n",
    "# Classification Report\n",
    "my_tags = ['Negative','Neutral','Positive']\n",
    "report = classification_report(actual_scores, predicted_scores, target_names=my_tags);\n",
    "print(report)"
   ]
  },
  {
   "cell_type": "code",
   "execution_count": 29,
   "metadata": {},
   "outputs": [
    {
     "data": {
      "text/plain": [
       "'             precision    recall  f1-score   support\\n\\n   Negative       0.72      0.03      0.05      7908\\n    Neutral       0.27      0.00      0.00      9267\\n   Positive       0.80      1.00      0.89     66418\\n\\navg / total       0.73      0.80      0.71     83593\\n'"
      ]
     },
     "execution_count": 29,
     "metadata": {},
     "output_type": "execute_result"
    }
   ],
   "source": [
    "report"
   ]
  },
  {
   "cell_type": "code",
   "execution_count": null,
   "metadata": {},
   "outputs": [],
   "source": []
  }
 ],
 "metadata": {
  "kernelspec": {
   "display_name": "Python 3",
   "language": "python",
   "name": "python3"
  },
  "language_info": {
   "codemirror_mode": {
    "name": "ipython",
    "version": 3
   },
   "file_extension": ".py",
   "mimetype": "text/x-python",
   "name": "python",
   "nbconvert_exporter": "python",
   "pygments_lexer": "ipython3",
   "version": "3.7.0"
  }
 },
 "nbformat": 4,
 "nbformat_minor": 2
}
