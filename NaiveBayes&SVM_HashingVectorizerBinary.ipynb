{
 "cells": [
  {
   "cell_type": "code",
   "execution_count": 1,
   "metadata": {},
   "outputs": [],
   "source": [
    "import numpy as np\n",
    "import pandas as pd\n",
    "import seaborn as sns\n",
    "import matplotlib.pyplot as plt\n",
    "import re\n",
    "from nltk.tokenize import word_tokenize\n",
    "from nltk.corpus import stopwords\n",
    "from sklearn import model_selection\n",
    "from sklearn.feature_extraction.text import HashingVectorizer\n",
    "from sklearn import model_selection, naive_bayes, svm\n",
    "from sklearn.metrics import accuracy_score, confusion_matrix, classification_report\n",
    "from collections import Counter\n",
    "from imblearn.over_sampling import SMOTE\n",
    "import nltk.data"
   ]
  },
  {
   "cell_type": "code",
   "execution_count": 2,
   "metadata": {},
   "outputs": [],
   "source": [
    "# read the dataset\n",
    "reviews_data = pd.read_json(r\"C:\\Users\\user\\Documents\\UoM\\Thesis\\data\\Clothing_Shoes_and_Jewelry_5.json\", lines=True)\n",
    "\n",
    "# Keep only the review text and the grade\n",
    "reviews_data = reviews_data[['overall', 'reviewText']]\n",
    "\n",
    "# Drop the products whose values are null\n",
    "reviews_data = reviews_data[reviews_data['reviewText'].notna()]\n",
    "\n",
    "ratings = []\n",
    "for index,entry in enumerate(reviews_data['overall']):\n",
    "    if entry == 1.0 or entry == 2.0:\n",
    "        ratings.append(-1)\n",
    "    elif entry == 3.0:\n",
    "        ratings.append(0)\n",
    "    elif entry == 4.0 or entry == 5.0:\n",
    "        ratings.append(1)"
   ]
  },
  {
   "cell_type": "code",
   "execution_count": 3,
   "metadata": {},
   "outputs": [
    {
     "name": "stdout",
     "output_type": "stream",
     "text": [
      "0% of the total reviews have been preprocessed\n",
      "4% of the total reviews have been preprocessed\n",
      "7% of the total reviews have been preprocessed\n",
      "11% of the total reviews have been preprocessed\n",
      "14% of the total reviews have been preprocessed\n",
      "18% of the total reviews have been preprocessed\n",
      "22% of the total reviews have been preprocessed\n",
      "25% of the total reviews have been preprocessed\n",
      "29% of the total reviews have been preprocessed\n",
      "32% of the total reviews have been preprocessed\n",
      "36% of the total reviews have been preprocessed\n",
      "39% of the total reviews have been preprocessed\n",
      "43% of the total reviews have been preprocessed\n",
      "47% of the total reviews have been preprocessed\n",
      "50% of the total reviews have been preprocessed\n",
      "54% of the total reviews have been preprocessed\n",
      "57% of the total reviews have been preprocessed\n",
      "61% of the total reviews have been preprocessed\n",
      "65% of the total reviews have been preprocessed\n",
      "68% of the total reviews have been preprocessed\n",
      "72% of the total reviews have been preprocessed\n",
      "75% of the total reviews have been preprocessed\n",
      "79% of the total reviews have been preprocessed\n",
      "83% of the total reviews have been preprocessed\n",
      "86% of the total reviews have been preprocessed\n",
      "90% of the total reviews have been preprocessed\n",
      "93% of the total reviews have been preprocessed\n",
      "97% of the total reviews have been preprocessed\n"
     ]
    }
   ],
   "source": [
    "\"\"\"\"\n",
    "Split each review into sentences\n",
    "and preprocess each sentence\n",
    "\"\"\"\n",
    "sentenceEnders = re.compile('[.!?]')\n",
    "\n",
    "stopwords = stopwords.words('english')\n",
    "stopwords.remove('not')\n",
    "stopwords.extend(['wear', 'shoes', 'size', 'fit', 'look', 'good'])\n",
    "\n",
    "preprocessed_data = []\n",
    "index = 0\n",
    "for review in reviews_data['reviewText']:\n",
    "    if ((index % 10000) == 0):\n",
    "        print(str(round((index/len(reviews_data)*100))) + \"% of the total reviews have been preprocessed\")   \n",
    "    review_sentences = sentenceEnders.split(review)\n",
    "    for sentence in review_sentences:\n",
    "        sentence = sentence.lower()\n",
    "        sentence = re.sub(r'not a *', 'not',sentence)\n",
    "        sentence = re.sub(r'not *', 'not',sentence) \n",
    "        sentence = re.sub(r\"\\w+n't \", 'not',sentence) \n",
    "        sentence = word_tokenize(sentence)\n",
    "        sentence = [word for word in sentence if not word in stopwords]\n",
    "        sentence = ' '.join(sentence)\n",
    "        sentence = re.sub('[^a-zA-Z]', ' ', sentence)\n",
    "        if(sentence != ''):\n",
    "            review = {}\n",
    "            review[\"index\"] = index\n",
    "            review[\"sentence\"] = sentence\n",
    "            review[\"rating\"] = ratings[index]\n",
    "            preprocessed_data.append(review)\n",
    "    index += 1"
   ]
  },
  {
   "cell_type": "code",
   "execution_count": 4,
   "metadata": {},
   "outputs": [
    {
     "name": "stdout",
     "output_type": "stream",
     "text": [
      "Before preprocessing:  BUCKLE DESIGNI have a variety of these, bought over a span of at least 20 years, and almost certainly made by several different companies. Although the Rothco buckles are \"made in Taiwan\", they are identical (down to the smallest detail) to solid-brass buckles \"made in America\" which I purchased 15 years ago.  Apparently, all buckles of this general type are made to the same government specified design.  These are uniform belts NOT utility belts.  If you want utility belts to hang gear from, consider5.11 TDU 1.5-Inch BeltorUTG Heavy Duty Web Belt - BlackPros/Cons:  I happen to like the precise adjustment, and the ability to wear a belt very loosely when I don't actually need it to hold up my pants---such as when working at my desk. I like being able to adjust the belt on the \"inside\" (where the extra belt material is not visible), so that the end of the belt sticks out only 1\" or so on the outside when worn loosely, and extends to my first belt loop when worn tight.  Tightening such a belt in a hurry (e.g., if you have to stand up and shake a visitors hand) takes just a second and is barely noticeable---particularly compared to the awkward fumbling required to tighten a \"regular\" belt by several notches.  Unfortunately, the belts are not so easy to thread though your belt loops as are slippery leather belts---not normally a problem, however it can be a hassle trying to put your web belt back on after going through airport screening.BUCKLE QUALITYSince these are manufactured by the millions primarily for military use (and to military specifications) they are high quality for the price. The fit and finish of the Rothco \"gold\" and \"silver\" buckles I bought was flawless. No sharp edges, no defects. However, different materials ARE available. The Rothco buckles  are steel, and therefore send metal detectors screaming. Caution: The description of the color \"brass\" means \"gold finish\" NOT solid brass metal construction, similarly \"silver\" means \"white metal\". I have several expensive buckles of the same design in brushed-white and brushed-yellow real solid brass metal, which are NOT detected by airport metal scanners.  Yes I said \"white\" brass---obviously mostly zinc---but called \"white brass\".  Rothco also sells solid brass buckles separately:4406 SOLID BRASS WEB BELT BUCKLE. However, the clip (or clips) on the end (or ends) of these belts are still steel, and will set off metal detectors.\"Setting\" your BeltWhen you \"buckle up, pull the end of the belt to the left with your left hand to adjust the length.  Simultaneously pull the the loose \"gripper pin\" to the right with the thumb and forefinger of your right hand---this sets the gripper tight so that the belt won't accidentally come loose.  After a while it becomes such a habit you don't even think about.SIZEAll are 1 1/4\" wide, the standard size for jeans, chinos, etc.  The size (usually 44\" or 54\") is the length of the web belt, NOT including the buckle and is NOT a waist size. If your waist is >38\", then buy a 54\" belt. Some overlap is necessary. You can choose where you want the overlap---on the outside, say to your first belt loop; or on the inside (where it isn't visible); or both. The belts can easily be shortened (cut to any length you like with scissors), but don't be too quick to shorten the belts---you may need the extra length someday.WEBBING (BELT) QUALITYThe Rothco web belts are thin and rigid, but are just as comfortable as thicker webbing.  Rothco web belts have a clip at only one end (the end which goes through the buckle)---the other end is slightly ragged. Not a problem, but you might want to apply a little glue to the end to prevent fraying.  Elmer's white household glue works well for this purpose.Elmer's All Multipurpose White Glue, 7 5/8 oz. (E379)Apply to the ragged end of the belt, work in, let dry.  Elmer's glue is water soluble and flexible when dry.  I've also used Beacon Fabri-tak which is not water soluble.Beacon Fabri-Tac Permanent Adhesive, 4-Ounce.  It is harder to saturate the fabric with Fabri-tak, but it is particularly good for repairing fraying on old belts.  Fraying (usually after years of use) occurs on the \"business end\" that goes through the buckle.  If you've taken my advice, and have several extra inches on the \"inside\", you can cut off the frayed section and move the clip---or you can move the clip to the opposite end, so that the frayed section is now on the inside.Thin vs Thick & Soft vs Rigid:  On thicker web belts, the clip is sometimes not compressed enough and catches in the buckle--the solution is several whacks with a hammer (cover with a peice of cloth so you don't mar the finish) to close the clip more tightly. It is unlikely that the clips of the thinner Rothco belts will ever catch in the buckles.  Soft belts can \"fall out\" of your first belt loop and flop around.  However, the more rigid Rothco web belts don't flop around, and are unlikely to \"fall out\" of the first belt loop.  In short, the thin rigid webbing is an improvement over the old thicker, softer, webbing.PROBLEM--buckle \"falls off\"Many reviewers report that the buckle \"falls off\" the belt because the gripper (on the back side) doesn't grip well.  Apparently the reason for this is the \"standard\" design, which was originally for the thicker softer belt webbing.  The gripper doesn't grip the thinner harder webbing so tightly.  When you originally setup the belt, pull hard to set the teeth.  Temporarily, you can \"shim\" it up with a scrap of paper,or a short length of Scotch \"invisible\" tape on the buckle under the gripper, for a tighter grip.  Perhaps the best \"shim\" is a 1\" x 1/2\" piece of the sticky part of a \"Post-it\" (stick the sticky side to the back side of the buckle under the gripper)---because it is easy to maneuver into place, and will stay where you put it.  However, even without shimming, after about two weeks of use (without moving the position of the gripper), the gripper will \"set\" and you are unlikely to have problems after that.Why only 4 stars?  Only because I like my solid-brass buckles better---they are undetected by metal detectors and will never rust nor tarnish, and I think that the brushed finish is more attractive than the shiny finish.  Inevitable scratches and abrasions are very obvious on the shiny buckles, but are invisible on the \"brushed\"-finish buckles.\n",
      "------------------------------------------------\n",
      "After preprocessing:  [{'index': 28620, 'sentence': 'buckle designi variety   bought span least    years   almost certainly made several different companies', 'rating': 1}, {'index': 28620, 'sentence': 'although rothco buckles    made taiwan      identical   smallest detail   solid brass buckles    made america    purchased    years ago', 'rating': 1}, {'index': 28620, 'sentence': 'apparently   buckles general type made government specified design', 'rating': 1}, {'index': 28620, 'sentence': 'uniform belts notutility belts', 'rating': 1}, {'index': 28620, 'sentence': 'want utility belts hang gear   consider ', 'rating': 1}, {'index': 28620, 'sentence': '   tdu  ', 'rating': 1}, {'index': 28620, 'sentence': '  inch beltorutg heavy duty web belt   blackpros cons   happen like precise adjustment   ability belt loosely notactually need hold pants     such working desk', 'rating': 1}, {'index': 28620, 'sentence': 'like able adjust belt    inside      extra belt material notvisible     end belt sticks      outside worn loosely   extends first belt loop worn tight', 'rating': 1}, {'index': 28620, 'sentence': 'tightening belt hurry   e', 'rating': 1}, {'index': 28620, 'sentence': 'g', 'rating': 1}, {'index': 28620, 'sentence': '  stand shake visitors hand   takes second barely noticeable     particularly compared awkward fumbling required tighten    regular    belt several notches', 'rating': 1}, {'index': 28620, 'sentence': 'unfortunately   belts notso easy thread though belt loops slippery leather belts     notnormally problem   however hassle trying put web belt back going airport screening', 'rating': 1}, {'index': 28620, 'sentence': 'buckle qualitysince manufactured millions primarily military use   military specifications   high quality price', 'rating': 1}, {'index': 28620, 'sentence': 'finish rothco    gold       silver    buckles bought flawless', 'rating': 1}, {'index': 28620, 'sentence': 'sharp edges   defects', 'rating': 1}, {'index': 28620, 'sentence': 'however   different materials available', 'rating': 1}, {'index': 28620, 'sentence': 'rothco buckles steel   therefore send metal detectors screaming', 'rating': 1}, {'index': 28620, 'sentence': 'caution   description color    brass    means    gold finish    notsolid brass metal construction   similarly    silver    means    white metal   ', 'rating': 1}, {'index': 28620, 'sentence': 'several expensive buckles design brushed white brushed yellow real solid brass metal   notdetected airport metal scanners', 'rating': 1}, {'index': 28620, 'sentence': 'yes said    white    brass     obviously mostly zinc     but called    white brass   ', 'rating': 1}, {'index': 28620, 'sentence': 'rothco also sells solid brass buckles separately      solid brass web belt buckle', 'rating': 1}, {'index': 28620, 'sentence': 'however   clip   clips   end   ends   belts still steel   set metal detectors', 'rating': 1}, {'index': 28620, 'sentence': '   setting    beltwhen    buckle   pull end belt left left hand adjust length', 'rating': 1}, {'index': 28620, 'sentence': 'simultaneously pull loose    gripper pin    right thumb forefinger right hand     this sets gripper tight belt notaccidentally come loose', 'rating': 1}, {'index': 28620, 'sentence': 'becomes habit noteven think', 'rating': 1}, {'index': 28620, 'sentence': 'sizeall          wide   standard jeans   chinos   etc', 'rating': 1}, {'index': 28620, 'sentence': '  usually               length web belt   notincluding buckle notwaist', 'rating': 1}, {'index': 28620, 'sentence': 'waist           buy       belt', 'rating': 1}, {'index': 28620, 'sentence': 'overlap necessary', 'rating': 1}, {'index': 28620, 'sentence': 'choose want overlap     on outside   say first belt loop   inside   notvisible    ', 'rating': 1}, {'index': 28620, 'sentence': 'belts easily shortened   cut length like scissors     notbe quick shorten belts     you may need extra length someday', 'rating': 1}, {'index': 28620, 'sentence': 'webbing   belt   qualitythe rothco web belts thin rigid   comfortable thicker webbing', 'rating': 1}, {'index': 28620, 'sentence': 'rothco web belts clip one end   end goes buckle       the end slightly ragged', 'rating': 1}, {'index': 28620, 'sentence': 'notproblem   might want apply little glue end prevent fraying', 'rating': 1}, {'index': 28620, 'sentence': 'elmer  s white household glue works well purpose', 'rating': 1}, {'index': 28620, 'sentence': 'elmer  s multipurpose white glue         oz', 'rating': 1}, {'index': 28620, 'sentence': '  e      apply ragged end belt   work   let dry', 'rating': 1}, {'index': 28620, 'sentence': 'elmer  s glue water soluble flexible dry', 'rating': 1}, {'index': 28620, 'sentence': ' ve also used beacon fabri tak notwater soluble', 'rating': 1}, {'index': 28620, 'sentence': 'beacon fabri tac permanent adhesive     ounce', 'rating': 1}, {'index': 28620, 'sentence': 'harder saturate fabric fabri tak   particularly repairing fraying old belts', 'rating': 1}, {'index': 28620, 'sentence': 'fraying   usually years use   occurs    business end    goes buckle', 'rating': 1}, {'index': 28620, 'sentence': ' ve taken advice   several extra inches    inside      cut frayed section move clip     or move clip opposite end   frayed section inside', 'rating': 1}, {'index': 28620, 'sentence': 'thin vs thick   soft vs rigid   thicker web belts   clip sometimes notcompressed enough catches buckle    solution several whacks hammer   cover peice cloth notmar finish   close clip tightly', 'rating': 1}, {'index': 28620, 'sentence': 'unlikely clips thinner rothco belts ever catch buckles', 'rating': 1}, {'index': 28620, 'sentence': 'soft belts    fall    first belt loop flop around', 'rating': 1}, {'index': 28620, 'sentence': 'however   rigid rothco web belts notflop around   unlikely    fall    first belt loop', 'rating': 1}, {'index': 28620, 'sentence': 'short   thin rigid webbing improvement old thicker   softer   webbing', 'rating': 1}, {'index': 28620, 'sentence': 'problem    buckle    falls    many reviewers report buckle    falls    belt gripper   back side   notgrip well', 'rating': 1}, {'index': 28620, 'sentence': 'apparently reason    standard    design   originally thicker softer belt webbing', 'rating': 1}, {'index': 28620, 'sentence': 'gripper notgrip thinner harder webbing tightly', 'rating': 1}, {'index': 28620, 'sentence': 'originally setup belt   pull hard set teeth', 'rating': 1}, {'index': 28620, 'sentence': 'temporarily      shim    scrap paper   short length scotch    invisible    tape buckle gripper   tighter grip', 'rating': 1}, {'index': 28620, 'sentence': 'perhaps best    shim         x        piece sticky part    post it      stick sticky side back side buckle gripper       because easy maneuver place   stay put', 'rating': 1}, {'index': 28620, 'sentence': 'however   even without shimming   two weeks use   without moving position gripper     gripper    set    unlikely problems', 'rating': 1}, {'index': 28620, 'sentence': '  stars', 'rating': 1}, {'index': 28620, 'sentence': 'like solid brass buckles better     they undetected metal detectors never rust tarnish   think brushed finish attractive shiny finish', 'rating': 1}, {'index': 28620, 'sentence': 'inevitable scratches abrasions obvious shiny buckles   invisible    brushed     finish buckles', 'rating': 1}]\n",
      "1317681\n"
     ]
    }
   ],
   "source": [
    "print(\"Before preprocessing: \", reviews_data['reviewText'][28620])\n",
    "print(\"------------------------------------------------\")\n",
    "print(\"After preprocessing: \", [d for d in preprocessed_data if d['index'] == 28620])\n",
    "print(len(preprocessed_data))"
   ]
  },
  {
   "cell_type": "code",
   "execution_count": 5,
   "metadata": {},
   "outputs": [],
   "source": [
    "# Split Dataset into training and test\n",
    "indexes = [i for i in range(len(reviews_data))]\n",
    "\n",
    "Train_X_index, Test_X_index, Train_Y_review, Test_Y_review = model_selection.train_test_split(indexes,ratings,test_size=0.3, random_state=42)\n",
    "\n",
    "df = pd.DataFrame(preprocessed_data)\n",
    "\n",
    "train = df[df['index'].isin(Train_X_index)]\n",
    "Train_Y = train['rating'].tolist()\n",
    "Train_X = train['sentence'].tolist()\n",
    "Train_index = train['index'].tolist()\n",
    "\n",
    "\n",
    "test = df[df['index'].isin(Test_X_index)]\n",
    "Test_Y = test['rating'].tolist()\n",
    "Test_X = test['sentence'].tolist()\n",
    "Test_index = test['index'].tolist()\n",
    "\n",
    "all_sentences = Train_X + Test_X"
   ]
  },
  {
   "cell_type": "code",
   "execution_count": 6,
   "metadata": {},
   "outputs": [],
   "source": [
    "# Word Vectorization\n",
    "Hashing_vect = HashingVectorizer(alternate_sign=False, binary=True)\n",
    "Hashing_vect.fit(all_sentences)\n",
    "Train_X_Hashing = Hashing_vect.transform(Train_X)\n",
    "Test_X_Hashing = Hashing_vect.transform(Test_X)"
   ]
  },
  {
   "cell_type": "code",
   "execution_count": 7,
   "metadata": {},
   "outputs": [],
   "source": [
    "# Oversampling \n",
    "oversample = SMOTE(random_state=100)\n",
    "X_SMOTE, y_SMOTE = oversample.fit_resample(Train_X_Hashing, Train_Y)"
   ]
  },
  {
   "cell_type": "code",
   "execution_count": 8,
   "metadata": {},
   "outputs": [],
   "source": [
    "def find_Max_Element(scores):\n",
    "    c = Counter(scores)\n",
    "    negatives = c[-1]\n",
    "    neutral = c[0]\n",
    "    positives = c[1]\n",
    "    \n",
    "    if(scores[0] == -1):\n",
    "        negatives += 1\n",
    "    elif(scores[0] == 0):\n",
    "        neutral += 1\n",
    "    elif(scores[0] == 1):\n",
    "        positives += 1\n",
    "    \n",
    "    \n",
    "    if(scores[-1] == -1):\n",
    "        negatives += 1\n",
    "    elif(scores[-1] == 0):\n",
    "        neutral += 1\n",
    "    elif(scores[-1] == 1):\n",
    "        positives += 1\n",
    "\n",
    "    if(neutral == positives and neutral > negatives and positives > negatives):\n",
    "        max_element = 1\n",
    "    elif (neutral == negatives and neutral > positives and negatives > positives):\n",
    "        max_element = -1\n",
    "    elif (neutral == negatives and negatives == positives):\n",
    "        max_element = 0\n",
    "    elif (positives == negatives and positives > neutral and negatives > neutral) :\n",
    "        max_element = 0\n",
    "    else:\n",
    "        max_element = max(set(scores), key = scores.count)\n",
    "        \n",
    "    return max_element"
   ]
  },
  {
   "cell_type": "code",
   "execution_count": 9,
   "metadata": {},
   "outputs": [
    {
     "name": "stdout",
     "output_type": "stream",
     "text": [
      "-10\n",
      "Accuracy:  80.69598296528459\n",
      "-------------------------\n",
      "              precision    recall  f1-score   support\n",
      "\n",
      "    Negative       0.60      0.51      0.55      7996\n",
      "     Neutral       0.31      0.34      0.33      9177\n",
      "    Positive       0.90      0.91      0.90     66421\n",
      "\n",
      "    accuracy                           0.81     83594\n",
      "   macro avg       0.60      0.58      0.59     83594\n",
      "weighted avg       0.81      0.81      0.81     83594\n",
      "\n"
     ]
    },
    {
     "data": {
      "image/png": "[encoded data removed]",
      "text/plain": [
       "<Figure size 504x360 with 2 Axes>"
      ]
     },
     "metadata": {
      "needs_background": "light"
     },
     "output_type": "display_data"
    }
   ],
   "source": [
    "# fit the training dataset on the NB classifier\n",
    "Naive = naive_bayes.MultinomialNB() \n",
    "Naive.fit(X_SMOTE, y_SMOTE)\n",
    "\n",
    "# predict the labels on validation dataset\n",
    "predictions_NB_sentences = Naive.predict(Test_X_Hashing)\n",
    "\n",
    "# Get grades by review\n",
    "predicted_scores_frame = pd.DataFrame(np.column_stack([Test_index, predictions_NB_sentences, Test_Y]), \n",
    "                               columns=['review Index', 'prediction', 'actual'])\n",
    "\n",
    "print(len(predicted_scores_frame['review Index'].unique()) - len(Test_Y_review))\n",
    "\n",
    "# for each review get all scores by review\n",
    "scores_by_review_frame = predicted_scores_frame.groupby('review Index')['prediction'].apply(list)\n",
    "majority_scores =  scores_by_review_frame.apply(find_Max_Element)\n",
    "predicted_scores = list(majority_scores)\n",
    "\n",
    "# for each review get its actual score\n",
    "actual_scores_frame = predicted_scores_frame.groupby('review Index')['actual'].first()\n",
    "actual_scores = list(actual_scores_frame)\n",
    "\n",
    "# Calculate Accuracy\n",
    "accuracy = accuracy_score(predicted_scores, actual_scores)*100\n",
    "print(\"Accuracy: \", accuracy)\n",
    "print(\"-------------------------\")\n",
    "\n",
    "# Confusion Matrix\n",
    "cm = confusion_matrix(actual_scores, predicted_scores)\n",
    "plt.figure(figsize = (7,5))\n",
    "ax = plt.subplot()\n",
    "sns.heatmap(cm, annot=True, cmap='Blues', fmt='g',ax=ax)\n",
    "ax.set_xlabel('Predicted labels');\n",
    "ax.set_ylabel('True labels'); \n",
    "ax.set_title('Confusion Matrix - NB Hashing Vectorizer Binary'); \n",
    "ax.xaxis.set_ticklabels(['Negative', 'Neutral', 'Positive']); \n",
    "ax.yaxis.set_ticklabels(['Negative', 'Neutral', 'Positive']);\n",
    "\n",
    "# Classification Report\n",
    "my_tags = ['Negative','Neutral','Positive']\n",
    "print(classification_report(actual_scores, predicted_scores, target_names=my_tags))\n",
    "report = classification_report(actual_scores, predicted_scores, target_names=my_tags, output_dict=True);\n",
    "clsf_report = pd.DataFrame(report).transpose()\n",
    "clsf_report.to_csv('reports/NaiveBayes_HashingVectorizerBinary.csv', index= True)"
   ]
  },
  {
   "cell_type": "code",
   "execution_count": 10,
   "metadata": {},
   "outputs": [
    {
     "name": "stdout",
     "output_type": "stream",
     "text": [
      "-10\n",
      "Accuracy:  79.14443620355527\n",
      "-----------------------\n",
      "              precision    recall  f1-score   support\n",
      "\n",
      "    Negative       0.56      0.54      0.55      7996\n",
      "     Neutral       0.28      0.32      0.29      9177\n",
      "    Positive       0.90      0.89      0.89     66421\n",
      "\n",
      "    accuracy                           0.79     83594\n",
      "   macro avg       0.58      0.58      0.58     83594\n",
      "weighted avg       0.80      0.79      0.80     83594\n",
      "\n"
     ]
    },
    {
     "data": {
      "image/png": "[encoded data removed]",
      "text/plain": [
       "<Figure size 504x360 with 2 Axes>"
      ]
     },
     "metadata": {
      "needs_background": "light"
     },
     "output_type": "display_data"
    }
   ],
   "source": [
    "# Support Vector Machine with linear cernel\n",
    "\n",
    "from sklearn.svm import LinearSVC\n",
    "\n",
    "# Train the classifier\n",
    "clf = LinearSVC(random_state=0, tol=1e-5)\n",
    "clf.fit(X_SMOTE, y_SMOTE)\n",
    "\n",
    "# Predict on the test set\n",
    "predictions_SVM = clf.predict(Test_X_Hashing)\n",
    "\n",
    "# Get grades by review\n",
    "predicted_scores_frame = pd.DataFrame(np.column_stack([Test_index, predictions_SVM, Test_Y]), \n",
    "                               columns=['review Index', 'prediction', 'actual'])\n",
    "\n",
    "print(len(predicted_scores_frame['review Index'].unique()) - len(Test_Y_review))\n",
    "\n",
    "# for each review get all scores by review\n",
    "scores_by_review_frame = predicted_scores_frame.groupby('review Index')['prediction'].apply(list)\n",
    "\n",
    "majority_scores =  scores_by_review_frame.apply(find_Max_Element)\n",
    "predicted_scores = list(majority_scores)\n",
    "\n",
    "# for each review get its actual score\n",
    "actual_scores_frame = predicted_scores_frame.groupby('review Index')['actual'].first()\n",
    "actual_scores = list(actual_scores_frame)\n",
    "\n",
    "# Calculate Accuracy\n",
    "accuracy = accuracy_score(predicted_scores, actual_scores)*100\n",
    "print(\"Accuracy: \", accuracy)\n",
    "print(\"-----------------------\")\n",
    "\n",
    "# Confusion Matrix\n",
    "cm = confusion_matrix(actual_scores, predicted_scores)\n",
    "plt.figure(figsize = (7,5))\n",
    "ax = plt.subplot()\n",
    "sns.heatmap(cm, annot=True, cmap='Blues', fmt='g',ax=ax)\n",
    "ax.set_xlabel('Predicted labels');\n",
    "ax.set_ylabel('True labels'); \n",
    "ax.set_title('Confusion Matrix - SVM Hashing Vectorizer Binary'); \n",
    "ax.xaxis.set_ticklabels(['Negative', 'Neutral', 'Positive']); \n",
    "ax.yaxis.set_ticklabels(['Negative', 'Neutral', 'Positive']);\n",
    "\n",
    "# Classification Report\n",
    "my_tags = ['Negative','Neutral','Positive']\n",
    "print(classification_report(actual_scores, predicted_scores, target_names=my_tags))\n",
    "report = classification_report(actual_scores, predicted_scores, target_names=my_tags, output_dict=True);\n",
    "clsf_report = pd.DataFrame(report).transpose()\n",
    "clsf_report.to_csv('reports/SVM_HashingVectorizerBinary.csv', index= True)"
   ]
  },
  {
   "cell_type": "code",
   "execution_count": null,
   "metadata": {},
   "outputs": [],
   "source": []
  }
 ],
 "metadata": {
  "kernelspec": {
   "display_name": "Python 3",
   "language": "python",
   "name": "python3"
  },
  "language_info": {
   "codemirror_mode": {
    "name": "ipython",
    "version": 3
   },
   "file_extension": ".py",
   "mimetype": "text/x-python",
   "name": "python",
   "nbconvert_exporter": "python",
   "pygments_lexer": "ipython3",
   "version": "3.8.8"
  }
 },
 "nbformat": 4,
 "nbformat_minor": 2
}
