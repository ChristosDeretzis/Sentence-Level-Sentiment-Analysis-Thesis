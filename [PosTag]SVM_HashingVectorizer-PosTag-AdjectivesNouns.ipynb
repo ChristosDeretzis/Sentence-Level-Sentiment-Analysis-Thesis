{
 "cells": [
  {
   "cell_type": "code",
   "execution_count": 12,
   "metadata": {},
   "outputs": [
    {
     "name": "stderr",
     "output_type": "stream",
     "text": [
      "[nltk_data] Downloading package averaged_perceptron_tagger to\n",
      "[nltk_data]     C:\\Users\\User\\AppData\\Roaming\\nltk_data...\n",
      "[nltk_data]   Package averaged_perceptron_tagger is already up-to-\n",
      "[nltk_data]       date!\n"
     ]
    }
   ],
   "source": [
    "import numpy as np\n",
    "import pandas as pd\n",
    "import seaborn as sns\n",
    "import matplotlib.pyplot as plt\n",
    "import re\n",
    "from nltk.tokenize import sent_tokenize, word_tokenize\n",
    "from nltk.corpus import stopwords\n",
    "from sklearn import model_selection\n",
    "from sklearn.feature_extraction.text import HashingVectorizer\n",
    "from sklearn.metrics import accuracy_score, confusion_matrix, classification_report\n",
    "from collections import Counter\n",
    "from imblearn.over_sampling import SMOTE\n",
    "import nltk.data\n",
    "import nltk\n",
    "\n",
    "nltk.download('averaged_perceptron_tagger')\n",
    "tokenizer = nltk.data.load('tokenizers/punkt/english.pickle')"
   ]
  },
  {
   "cell_type": "code",
   "execution_count": 2,
   "metadata": {},
   "outputs": [],
   "source": [
    "# read the dataset\n",
    "reviews_data = pd.read_json(r\"C:\\Users\\user\\Documents\\UoM\\Thesis\\data\\Clothing_Shoes_and_Jewelry_5.json\", lines=True)\n",
    "\n",
    "# Keep only the review text and the grade\n",
    "reviews_data = reviews_data[['overall', 'reviewText']]\n",
    "\n",
    "\n",
    "# Drop the products whose values are null\n",
    "reviews_data = reviews_data[reviews_data['reviewText'].notna()]"
   ]
  },
  {
   "cell_type": "code",
   "execution_count": 3,
   "metadata": {},
   "outputs": [],
   "source": [
    "ratings = []\n",
    "for index,entry in enumerate(reviews_data['overall']):\n",
    "    if entry == 1.0 or entry == 2.0:\n",
    "        ratings.append(-1)\n",
    "    elif entry == 3.0:\n",
    "        ratings.append(0)\n",
    "    elif entry == 4.0 or entry == 5.0:\n",
    "        ratings.append(1)"
   ]
  },
  {
   "cell_type": "code",
   "execution_count": 4,
   "metadata": {},
   "outputs": [
    {
     "name": "stdout",
     "output_type": "stream",
     "text": [
      "0\n",
      "10000\n",
      "20000\n",
      "30000\n",
      "40000\n",
      "50000\n",
      "60000\n",
      "70000\n",
      "80000\n",
      "90000\n",
      "100000\n",
      "110000\n",
      "120000\n",
      "130000\n",
      "140000\n",
      "150000\n",
      "160000\n",
      "170000\n",
      "180000\n",
      "190000\n",
      "200000\n",
      "210000\n",
      "220000\n",
      "230000\n",
      "240000\n",
      "250000\n",
      "260000\n",
      "270000\n"
     ]
    }
   ],
   "source": [
    "\"\"\"\"\n",
    "Split each review into sentences\n",
    "and preprocess each sentence\n",
    "\"\"\"\n",
    "stopwords = stopwords.words('english')\n",
    "\n",
    "preprocessed_data = []\n",
    "index = 0\n",
    "for review in reviews_data['reviewText']:\n",
    "    if(index % 10000 == 0):\n",
    "        print(index)\n",
    "    review_sentences = tokenizer.tokenize(review)\n",
    "    for sentence in review_sentences:\n",
    "        sentence = re.sub('[^a-zA-Z]', ' ', sentence)\n",
    "        sentence = sentence.lower()\n",
    "        sentence = word_tokenize(sentence)\n",
    "        sentence = [word for word in sentence if not word in stopwords]\n",
    "        sentence = ' '.join(sentence)\n",
    "        \n",
    "        # position tagging to extract adjectives\n",
    "        tokens = nltk.word_tokenize(str(sentence))\n",
    "        tags = nltk.pos_tag(tokens)\n",
    "        adjectivesNouns = [word for word,pos in tags if (pos == 'JJ' or pos == 'JJR' or pos == 'JJS'or pos == 'NN' or pos == 'NNP' or pos == 'NNS' or pos == 'NNPS')]\n",
    "        sentence_adjectives_nouns = \" \".join(adjectivesNouns)\n",
    "        if(sentence_adjectives_nouns != ''):\n",
    "            review = {}\n",
    "            review[\"index\"] = index\n",
    "            review[\"sentence\"] = sentence_adjectives_nouns\n",
    "            review[\"rating\"] = ratings[index]\n",
    "            preprocessed_data.append(review)\n",
    "    index += 1"
   ]
  },
  {
   "cell_type": "code",
   "execution_count": 5,
   "metadata": {},
   "outputs": [
    {
     "name": "stdout",
     "output_type": "stream",
     "text": [
      "Before preprocessing:  Okay, I admit it. I'm one of the millions of Americans that massively struggles with any language either than English. I have recently returned to college to finish out my Bachelors. The university I'm enrolled in requires two years of a foreign language. Ugh. Kill me. Kill me now. BUT with using Rosetta, I was not only able to get through my class without sounding and feeling like an idiot, but I actually got A's!! I never thought that was a possibility. I'm not ready to jet off to France or anything but I'm not a complete moron any more either. I'm calling that a huge success. Once this whole bachelors things is under my belt, I will be back to pick up the next level!!\n",
      "------------------------------------------------\n",
      "After preprocessing:  [{'index': 32, 'sentence': 'okay admit', 'rating': 1}, {'index': 32, 'sentence': 'millions struggles language english', 'rating': 1}, {'index': 32, 'sentence': 'college finish bachelors', 'rating': 1}, {'index': 32, 'sentence': 'university years foreign language', 'rating': 1}, {'index': 32, 'sentence': 'kill', 'rating': 1}, {'index': 32, 'sentence': 'kill', 'rating': 1}, {'index': 32, 'sentence': 'rosetta able get class idiot', 'rating': 1}, {'index': 32, 'sentence': 'possibility', 'rating': 1}, {'index': 32, 'sentence': 'ready jet france anything complete moron', 'rating': 1}, {'index': 32, 'sentence': 'huge success', 'rating': 1}, {'index': 32, 'sentence': 'whole bachelors things pick next level', 'rating': 1}]\n",
      "1140879\n"
     ]
    }
   ],
   "source": [
    "print(\"Before preprocessing: \", reviews_data['reviewText'][32])\n",
    "print(\"------------------------------------------------\")\n",
    "print(\"After preprocessing: \", [d for d in preprocessed_data if d['index'] == 32])\n",
    "print(len(preprocessed_data))"
   ]
  },
  {
   "cell_type": "code",
   "execution_count": 6,
   "metadata": {},
   "outputs": [],
   "source": [
    "# Split Dataset into training and test\n",
    "indexes = [i for i in range(len(reviews_data))]\n",
    "\n",
    "Train_X_index, Test_X_index, Train_Y_review, Test_Y_review = model_selection.train_test_split(indexes,ratings,test_size=0.3,random_state=42)\n",
    "\n",
    "df = pd.DataFrame(preprocessed_data)\n",
    "\n",
    "train = df[df['index'].isin(Train_X_index)]\n",
    "Train_Y = train['rating'].tolist()\n",
    "Train_X = train['sentence'].tolist()\n",
    "Train_index = train['index'].tolist()\n",
    "\n",
    "\n",
    "test = df[df['index'].isin(Test_X_index)]\n",
    "Test_Y = test['rating'].tolist()\n",
    "Test_X = test['sentence'].tolist()\n",
    "Test_index = test['index'].tolist()\n",
    "\n",
    "all_sentences = Train_X + Test_X"
   ]
  },
  {
   "cell_type": "code",
   "execution_count": 7,
   "metadata": {},
   "outputs": [
    {
     "data": {
      "text/plain": [
       "1140879"
      ]
     },
     "execution_count": 7,
     "metadata": {},
     "output_type": "execute_result"
    }
   ],
   "source": [
    "len(df)"
   ]
  },
  {
   "cell_type": "code",
   "execution_count": 8,
   "metadata": {},
   "outputs": [],
   "source": [
    "# Word Vectorization       \n",
    "Hashing_vect = HashingVectorizer(alternate_sign=False)\n",
    "Hashing_vect.fit(all_sentences)\n",
    "Train_X_Hashing = Hashing_vect.transform(Train_X)\n",
    "Test_X_Hashing = Hashing_vect.transform(Test_X)"
   ]
  },
  {
   "cell_type": "code",
   "execution_count": 9,
   "metadata": {},
   "outputs": [],
   "source": [
    "# Oversampling \n",
    "oversample = SMOTE(random_state=100)\n",
    "X_SMOTE, y_SMOTE = oversample.fit_resample(Train_X_Hashing, Train_Y)"
   ]
  },
  {
   "cell_type": "code",
   "execution_count": 10,
   "metadata": {},
   "outputs": [],
   "source": [
    "def find_Max_Element(scores):\n",
    "    c = Counter(scores)\n",
    "    negatives = c[-1]\n",
    "    neutral = c[0]\n",
    "    positives = c[1]\n",
    "    \n",
    "    if(scores[0] == -1):\n",
    "        negatives += 1\n",
    "    elif(scores[0] == 0):\n",
    "        neutral += 1\n",
    "    elif(scores[0] == 1):\n",
    "        positives += 1\n",
    "    \n",
    "    if(scores[-1] == -1):\n",
    "        negatives += 1\n",
    "    elif(scores[-1] == 0):\n",
    "        neutral += 1\n",
    "    elif(scores[-1] == 1):\n",
    "        positives += 1\n",
    "\n",
    "    if(neutral == positives and neutral > negatives and positives > negatives):\n",
    "        max_element = 1\n",
    "    elif (neutral == negatives and neutral > positives and negatives > positives):\n",
    "        max_element = -1\n",
    "    elif (neutral == negatives and negatives == positives):\n",
    "        max_element = 0\n",
    "    elif (positives == negatives and positives > neutral and negatives > neutral) :\n",
    "        max_element = 0\n",
    "    else:\n",
    "        max_element = max(set(scores), key = scores.count)\n",
    "        \n",
    "    return max_element\n",
    "#     return  max(set(scores), key = scores.count)"
   ]
  },
  {
   "cell_type": "code",
   "execution_count": 13,
   "metadata": {},
   "outputs": [
    {
     "name": "stdout",
     "output_type": "stream",
     "text": [
      "-42\n",
      "Accuracy:  71.67492400852062\n",
      "-----------------------\n",
      "              precision    recall  f1-score   support\n",
      "\n",
      "    Negative       0.40      0.48      0.43      7991\n",
      "     Neutral       0.20      0.32      0.25      9171\n",
      "    Positive       0.89      0.80      0.84     66400\n",
      "\n",
      "    accuracy                           0.72     83562\n",
      "   macro avg       0.50      0.53      0.51     83562\n",
      "weighted avg       0.77      0.72      0.74     83562\n",
      "\n"
     ]
    },
    {
     "data": {
      "image/png": "[encoded data removed]",
      "text/plain": [
       "<Figure size 504x360 with 2 Axes>"
      ]
     },
     "metadata": {
      "needs_background": "light"
     },
     "output_type": "display_data"
    }
   ],
   "source": [
    "# Support Vector Machine with linear cernel\n",
    "from sklearn.svm import LinearSVC\n",
    "\n",
    "# Train the classifier\n",
    "clf = LinearSVC(random_state=0, tol=1e-5)\n",
    "clf.fit(X_SMOTE,y_SMOTE)\n",
    "\n",
    "predictions_SVM = clf.predict(Test_X_Hashing)\n",
    "\n",
    "# Get grades by review\n",
    "predicted_scores_frame = pd.DataFrame(np.column_stack([Test_index, predictions_SVM, Test_Y]), \n",
    "                               columns=['review Index', 'prediction', 'actual'])\n",
    "\n",
    "print(len(predicted_scores_frame['review Index'].unique()) - len(Test_Y_review))\n",
    "\n",
    "# for each review get all scores by review\n",
    "scores_by_review_frame = predicted_scores_frame.groupby('review Index')['prediction'].apply(list)\n",
    "\n",
    "majority_scores =  scores_by_review_frame.apply(find_Max_Element)\n",
    "predicted_scores = list(majority_scores)\n",
    "\n",
    "# for each review get its actual score\n",
    "actual_scores_frame = predicted_scores_frame.groupby('review Index')['actual'].first()\n",
    "actual_scores = list(actual_scores_frame)\n",
    "\n",
    "# get all indexes\n",
    "review_indexes = predicted_scores_frame['review Index'].unique()\n",
    "\n",
    "# Calculate Accuracy\n",
    "accuracy = accuracy_score(predicted_scores, actual_scores)*100\n",
    "print(\"Accuracy: \", accuracy)\n",
    "print(\"-----------------------\")\n",
    "\n",
    "# Confusion Matrix\n",
    "cm = confusion_matrix(actual_scores, predicted_scores)\n",
    "plt.figure(figsize = (7,5))\n",
    "ax = plt.subplot()\n",
    "sns.heatmap(cm, annot=True, cmap='Blues', fmt='g',ax=ax)\n",
    "ax.set_xlabel('Predicted labels')\n",
    "ax.set_ylabel('True labels') \n",
    "ax.set_title('Confusion Matrix - SVM Hashing Vect. POS Tag(Adjectives&Nouns)') \n",
    "ax.xaxis.set_ticklabels(['Negative', 'Neutral', 'Positive']) \n",
    "ax.yaxis.set_ticklabels(['Negative', 'Neutral', 'Positive'])\n",
    "\n",
    "# Classification Report\n",
    "my_tags = ['Negative','Neutral','Positive']\n",
    "print(classification_report(actual_scores, predicted_scores, target_names=my_tags))\n",
    "report = classification_report(actual_scores, predicted_scores, target_names=my_tags, output_dict=True);\n",
    "clsf_report = pd.DataFrame(report).transpose()\n",
    "clsf_report.to_csv('reports/SVM_HashingVectorizer_PosTag_AdjectivesNouns.csv', index= True)"
   ]
  },
  {
   "cell_type": "code",
   "execution_count": 14,
   "metadata": {},
   "outputs": [],
   "source": [
    "# write indexes of false classified reviews to a txt file\n",
    "\n",
    "data = {\"review_index\": review_indexes, \"predict\": predicted_scores, \"actual\": actual_scores}\n",
    "\n",
    "review_dataframe = pd.DataFrame(data)\n",
    "\n",
    "false_classified_indexes = review_dataframe['review_index'][review_dataframe['predict'] != review_dataframe['actual']]\n",
    "false_classified_indexes = list(false_classified_indexes)\n",
    "\n",
    "with open(\"indexes/SVM_HashingVectorizer_PosTag_AdjectivesNouns.txt\", 'w') as f:\n",
    "    for item in false_classified_indexes:\n",
    "        f.write(\"%s\\n\" % item)\n",
    "        \n",
    "# save those indexes who are predicted as negative but they are neutral\n",
    "negativePredicted_neutralActual_indexes = review_dataframe['review_index'][(review_dataframe['predict'] == -1) & (review_dataframe['actual'] == 0)]\n",
    "negativePredicted_neutralActual_indexes = list(negativePredicted_neutralActual_indexes)\n",
    "with open(\"indexes/SVM_HashingVectorizer_PosTag_AdjectivesNouns_NegativePredicted_NeutralActual.txt\", 'w') as f:\n",
    "    for item in negativePredicted_neutralActual_indexes:\n",
    "        f.write(\"%s\\n\" % item)\n",
    "\n",
    "# save those indexes who are predicted as negative but they are positive\n",
    "negativePredicted_positiveActual_indexes = review_dataframe['review_index'][(review_dataframe['predict'] == -1) & (review_dataframe['actual'] == 1)]\n",
    "negativePredicted_positiveActual_indexes = list(negativePredicted_positiveActual_indexes)\n",
    "with open(\"indexes/SVM_HashingVectorizer_PosTag_AdjectivesNouns_NegativePredicted_PositiveActual.txt\", 'w') as f:\n",
    "    for item in negativePredicted_positiveActual_indexes:\n",
    "        f.write(\"%s\\n\" % item)\n",
    "        \n",
    "# save those indexes who are predicted as neutral but they are negative\n",
    "neutralPredicted_negativeActual_indexes = review_dataframe['review_index'][(review_dataframe['predict'] == 0) & (review_dataframe['actual'] == -1)]\n",
    "neutralPredicted_negativeActual_indexes = list(neutralPredicted_negativeActual_indexes)\n",
    "with open(\"indexes/SVM_HashingVectorizer_PosTag_AdjectivesNouns_NeutralPredicted_NegativeActual.txt\", 'w') as f:\n",
    "    for item in neutralPredicted_negativeActual_indexes:\n",
    "        f.write(\"%s\\n\" % item)\n",
    "\n",
    "# save those indexes who are predicted as neutral but they are positive\n",
    "neutralPredicted_positiveActual_indexes = review_dataframe['review_index'][(review_dataframe['predict'] == 0) & (review_dataframe['actual'] == 1)]\n",
    "neutralPredicted_positiveActual_indexes = list(neutralPredicted_positiveActual_indexes)\n",
    "with open(\"indexes/SVM_HashingVectorizer_PosTag_AdjectivesNouns_NeutralPredicted_PositiveActual.txt\", 'w') as f:\n",
    "    for item in neutralPredicted_positiveActual_indexes:\n",
    "        f.write(\"%s\\n\" % item)\n",
    "\n",
    "# save those indexes who are predicted as positive but they are negative        \n",
    "positivePredicted_negativeActual_indexes = review_dataframe['review_index'][(review_dataframe['predict'] == 1) & (review_dataframe['actual'] == -1)]\n",
    "positivePredicted_negativeActual_indexes = list(positivePredicted_negativeActual_indexes)\n",
    "with open(\"indexes/SVM_HashingVectorizer_PosTag_AdjectivesNouns_PositivePredicted_NegativeActual.txt\", 'w') as f:\n",
    "    for item in positivePredicted_negativeActual_indexes:\n",
    "        f.write(\"%s\\n\" % item)\n",
    " \n",
    "# save those indexes who are predicted as positive but they are neutral \n",
    "positivePredicted_neutralActual_indexes = review_dataframe['review_index'][(review_dataframe['predict'] == 1) & (review_dataframe['actual'] == 0)]\n",
    "positivePredicted_neutralActual_indexes = list(positivePredicted_neutralActual_indexes)\n",
    "with open(\"indexes/SVM_HashingVectorizer_PosTag_AdjectivesNouns_PositivePredicted_NeutralActual.txt\", 'w') as f:\n",
    "    for item in positivePredicted_neutralActual_indexes:\n",
    "        f.write(\"%s\\n\" % item)"
   ]
  },
  {
   "cell_type": "code",
   "execution_count": null,
   "metadata": {},
   "outputs": [],
   "source": []
  }
 ],
 "metadata": {
  "kernelspec": {
   "display_name": "Python 3",
   "language": "python",
   "name": "python3"
  },
  "language_info": {
   "codemirror_mode": {
    "name": "ipython",
    "version": 3
   },
   "file_extension": ".py",
   "mimetype": "text/x-python",
   "name": "python",
   "nbconvert_exporter": "python",
   "pygments_lexer": "ipython3",
   "version": "3.8.5"
  }
 },
 "nbformat": 4,
 "nbformat_minor": 2
}
