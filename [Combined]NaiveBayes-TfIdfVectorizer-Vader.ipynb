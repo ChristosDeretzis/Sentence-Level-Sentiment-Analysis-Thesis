{
 "cells": [
  {
   "cell_type": "code",
   "execution_count": 1,
   "metadata": {},
   "outputs": [],
   "source": [
    "import numpy as np\n",
    "import pandas as pd\n",
    "import seaborn as sns\n",
    "import matplotlib.pyplot as plt\n",
    "import re\n",
    "from nltk.tokenize import sent_tokenize, word_tokenize\n",
    "from nltk.corpus import stopwords\n",
    "from nltk.stem import WordNetLemmatizer\n",
    "from sklearn import model_selection\n",
    "from sklearn.preprocessing import LabelEncoder\n",
    "from sklearn.feature_extraction.text import TfidfVectorizer\n",
    "from sklearn import model_selection, naive_bayes, svm\n",
    "from sklearn.metrics import accuracy_score, confusion_matrix, classification_report\n",
    "from vaderSentiment.vaderSentiment import SentimentIntensityAnalyzer\n",
    "from collections import Counter\n",
    "from imblearn.over_sampling import SMOTE\n",
    "import nltk.data\n",
    "\n",
    "tokenizer = nltk.data.load('tokenizers/punkt/english.pickle')"
   ]
  },
  {
   "cell_type": "code",
   "execution_count": 2,
   "metadata": {},
   "outputs": [],
   "source": [
    "# read the dataset\n",
    "reviews_data = pd.read_json(r\"C:\\Users\\user\\Documents\\UoM\\Thesis\\data\\Clothing_Shoes_and_Jewelry_5.json\", lines=True)\n",
    "\n",
    "# Keep only the review text and the grade\n",
    "reviews_data = reviews_data[['overall', 'reviewText']]\n",
    "\n",
    "\n",
    "# Drop the products whose values are null\n",
    "reviews_data = reviews_data[reviews_data['reviewText'].notna()]"
   ]
  },
  {
   "cell_type": "code",
   "execution_count": 3,
   "metadata": {},
   "outputs": [],
   "source": [
    "ratings = []\n",
    "for index,entry in enumerate(reviews_data['overall']):\n",
    "    if entry == 1.0 or entry == 2.0:\n",
    "        ratings.append(-1)\n",
    "    elif entry == 3.0:\n",
    "        ratings.append(0)\n",
    "    elif entry == 4.0 or entry == 5.0:\n",
    "        ratings.append(1)"
   ]
  },
  {
   "cell_type": "code",
   "execution_count": 4,
   "metadata": {},
   "outputs": [
    {
     "name": "stdout",
     "output_type": "stream",
     "text": [
      "0.0% of the total reviews have been preprocessed\n",
      "3.59% of the total reviews have been preprocessed\n",
      "7.18% of the total reviews have been preprocessed\n",
      "10.77% of the total reviews have been preprocessed\n",
      "14.35% of the total reviews have been preprocessed\n",
      "17.94% of the total reviews have been preprocessed\n",
      "21.53% of the total reviews have been preprocessed\n",
      "25.12% of the total reviews have been preprocessed\n",
      "28.71% of the total reviews have been preprocessed\n",
      "32.3% of the total reviews have been preprocessed\n",
      "35.88% of the total reviews have been preprocessed\n",
      "39.47% of the total reviews have been preprocessed\n",
      "43.06% of the total reviews have been preprocessed\n",
      "46.65% of the total reviews have been preprocessed\n",
      "50.24% of the total reviews have been preprocessed\n",
      "53.83% of the total reviews have been preprocessed\n",
      "57.41% of the total reviews have been preprocessed\n",
      "61.0% of the total reviews have been preprocessed\n",
      "64.59% of the total reviews have been preprocessed\n",
      "68.18% of the total reviews have been preprocessed\n",
      "71.77% of the total reviews have been preprocessed\n",
      "75.36% of the total reviews have been preprocessed\n",
      "78.94% of the total reviews have been preprocessed\n",
      "82.53% of the total reviews have been preprocessed\n",
      "86.12% of the total reviews have been preprocessed\n",
      "89.71% of the total reviews have been preprocessed\n",
      "93.3% of the total reviews have been preprocessed\n",
      "96.89% of the total reviews have been preprocessed\n",
      "100% of the total reviews have been preprocessed\n"
     ]
    }
   ],
   "source": [
    "\"\"\"\"\n",
    "Split each review into sentences\n",
    "and preprocess each sentence\n",
    "\"\"\"\n",
    "stopwords = stopwords.words('english')\n",
    "stopwords.remove('not')\n",
    "stopwords.extend(['wear', 'shoe', 'size', 'fit', 'look', 'one', 'good'])\n",
    "\n",
    "preprocessed_data = []\n",
    "index = 0\n",
    "for review in reviews_data['reviewText']:\n",
    "    if ((index % 10000) == 0):\n",
    "        print(str(round(((index/len(reviews_data)*100)), 2)) + \"% of the total reviews have been preprocessed\")  \n",
    "    review_sentences = tokenizer.tokenize(review)\n",
    "    for sentence in review_sentences:\n",
    "        raw_sentence = sentence\n",
    "        sentence = re.sub(r'not a *', 'not',sentence)\n",
    "        sentence = re.sub(r'not *', 'not',sentence) \n",
    "        sentence = re.sub(r\"\\w+n't \", 'not',sentence) \n",
    "        sentence = re.sub('[^a-zA-Z]', ' ', sentence)\n",
    "        sentence = sentence.lower()\n",
    "        sentence = word_tokenize(sentence)\n",
    "        sentence = [word for word in sentence if not word in stopwords]\n",
    "        sentence = ' '.join(sentence)\n",
    "        if(sentence != ''):\n",
    "            review = {}\n",
    "            review[\"index\"] = index\n",
    "            review[\"sentence\"] = sentence\n",
    "            review[\"rating\"] = ratings[index]\n",
    "            review[\"raw_sentence\"] = raw_sentence\n",
    "            preprocessed_data.append(review)\n",
    "    index += 1\n",
    "print(\"100% of the total reviews have been preprocessed\")"
   ]
  },
  {
   "cell_type": "code",
   "execution_count": 5,
   "metadata": {},
   "outputs": [
    {
     "name": "stdout",
     "output_type": "stream",
     "text": [
      "Before preprocessing:  BUCKLE DESIGNI have a variety of these, bought over a span of at least 20 years, and almost certainly made by several different companies. Although the Rothco buckles are \"made in Taiwan\", they are identical (down to the smallest detail) to solid-brass buckles \"made in America\" which I purchased 15 years ago.  Apparently, all buckles of this general type are made to the same government specified design.  These are uniform belts NOT utility belts.  If you want utility belts to hang gear from, consider5.11 TDU 1.5-Inch BeltorUTG Heavy Duty Web Belt - BlackPros/Cons:  I happen to like the precise adjustment, and the ability to wear a belt very loosely when I don't actually need it to hold up my pants---such as when working at my desk. I like being able to adjust the belt on the \"inside\" (where the extra belt material is not visible), so that the end of the belt sticks out only 1\" or so on the outside when worn loosely, and extends to my first belt loop when worn tight.  Tightening such a belt in a hurry (e.g., if you have to stand up and shake a visitors hand) takes just a second and is barely noticeable---particularly compared to the awkward fumbling required to tighten a \"regular\" belt by several notches.  Unfortunately, the belts are not so easy to thread though your belt loops as are slippery leather belts---not normally a problem, however it can be a hassle trying to put your web belt back on after going through airport screening.BUCKLE QUALITYSince these are manufactured by the millions primarily for military use (and to military specifications) they are high quality for the price. The fit and finish of the Rothco \"gold\" and \"silver\" buckles I bought was flawless. No sharp edges, no defects. However, different materials ARE available. The Rothco buckles  are steel, and therefore send metal detectors screaming. Caution: The description of the color \"brass\" means \"gold finish\" NOT solid brass metal construction, similarly \"silver\" means \"white metal\". I have several expensive buckles of the same design in brushed-white and brushed-yellow real solid brass metal, which are NOT detected by airport metal scanners.  Yes I said \"white\" brass---obviously mostly zinc---but called \"white brass\".  Rothco also sells solid brass buckles separately:4406 SOLID BRASS WEB BELT BUCKLE. However, the clip (or clips) on the end (or ends) of these belts are still steel, and will set off metal detectors.\"Setting\" your BeltWhen you \"buckle up, pull the end of the belt to the left with your left hand to adjust the length.  Simultaneously pull the the loose \"gripper pin\" to the right with the thumb and forefinger of your right hand---this sets the gripper tight so that the belt won't accidentally come loose.  After a while it becomes such a habit you don't even think about.SIZEAll are 1 1/4\" wide, the standard size for jeans, chinos, etc.  The size (usually 44\" or 54\") is the length of the web belt, NOT including the buckle and is NOT a waist size. If your waist is >38\", then buy a 54\" belt. Some overlap is necessary. You can choose where you want the overlap---on the outside, say to your first belt loop; or on the inside (where it isn't visible); or both. The belts can easily be shortened (cut to any length you like with scissors), but don't be too quick to shorten the belts---you may need the extra length someday.WEBBING (BELT) QUALITYThe Rothco web belts are thin and rigid, but are just as comfortable as thicker webbing.  Rothco web belts have a clip at only one end (the end which goes through the buckle)---the other end is slightly ragged. Not a problem, but you might want to apply a little glue to the end to prevent fraying.  Elmer's white household glue works well for this purpose.Elmer's All Multipurpose White Glue, 7 5/8 oz. (E379)Apply to the ragged end of the belt, work in, let dry.  Elmer's glue is water soluble and flexible when dry.  I've also used Beacon Fabri-tak which is not water soluble.Beacon Fabri-Tac Permanent Adhesive, 4-Ounce.  It is harder to saturate the fabric with Fabri-tak, but it is particularly good for repairing fraying on old belts.  Fraying (usually after years of use) occurs on the \"business end\" that goes through the buckle.  If you've taken my advice, and have several extra inches on the \"inside\", you can cut off the frayed section and move the clip---or you can move the clip to the opposite end, so that the frayed section is now on the inside.Thin vs Thick & Soft vs Rigid:  On thicker web belts, the clip is sometimes not compressed enough and catches in the buckle--the solution is several whacks with a hammer (cover with a peice of cloth so you don't mar the finish) to close the clip more tightly. It is unlikely that the clips of the thinner Rothco belts will ever catch in the buckles.  Soft belts can \"fall out\" of your first belt loop and flop around.  However, the more rigid Rothco web belts don't flop around, and are unlikely to \"fall out\" of the first belt loop.  In short, the thin rigid webbing is an improvement over the old thicker, softer, webbing.PROBLEM--buckle \"falls off\"Many reviewers report that the buckle \"falls off\" the belt because the gripper (on the back side) doesn't grip well.  Apparently the reason for this is the \"standard\" design, which was originally for the thicker softer belt webbing.  The gripper doesn't grip the thinner harder webbing so tightly.  When you originally setup the belt, pull hard to set the teeth.  Temporarily, you can \"shim\" it up with a scrap of paper,or a short length of Scotch \"invisible\" tape on the buckle under the gripper, for a tighter grip.  Perhaps the best \"shim\" is a 1\" x 1/2\" piece of the sticky part of a \"Post-it\" (stick the sticky side to the back side of the buckle under the gripper)---because it is easy to maneuver into place, and will stay where you put it.  However, even without shimming, after about two weeks of use (without moving the position of the gripper), the gripper will \"set\" and you are unlikely to have problems after that.Why only 4 stars?  Only because I like my solid-brass buckles better---they are undetected by metal detectors and will never rust nor tarnish, and I think that the brushed finish is more attractive than the shiny finish.  Inevitable scratches and abrasions are very obvious on the shiny buckles, but are invisible on the \"brushed\"-finish buckles.\n",
      "------------------------------------------------\n",
      "After preprocessing:  [{'index': 28620, 'sentence': 'buckle designi variety bought span least years almost certainly made several different companies', 'rating': 1, 'raw_sentence': 'BUCKLE DESIGNI have a variety of these, bought over a span of at least 20 years, and almost certainly made by several different companies.'}, {'index': 28620, 'sentence': 'although rothco buckles made taiwan identical smallest detail solid brass buckles made america purchased years ago', 'rating': 1, 'raw_sentence': 'Although the Rothco buckles are \"made in Taiwan\", they are identical (down to the smallest detail) to solid-brass buckles \"made in America\" which I purchased 15 years ago.'}, {'index': 28620, 'sentence': 'apparently buckles general type made government specified design', 'rating': 1, 'raw_sentence': 'Apparently, all buckles of this general type are made to the same government specified design.'}, {'index': 28620, 'sentence': 'uniform belts not utility belts', 'rating': 1, 'raw_sentence': 'These are uniform belts NOT utility belts.'}, {'index': 28620, 'sentence': 'want utility belts hang gear consider tdu inch beltorutg heavy duty web belt blackpros cons happen like precise adjustment ability belt loosely notactually need hold pants working desk', 'rating': 1, 'raw_sentence': \"If you want utility belts to hang gear from, consider5.11 TDU 1.5-Inch BeltorUTG Heavy Duty Web Belt - BlackPros/Cons:  I happen to like the precise adjustment, and the ability to wear a belt very loosely when I don't actually need it to hold up my pants---such as when working at my desk.\"}, {'index': 28620, 'sentence': 'like able adjust belt inside extra belt material notvisible end belt sticks outside worn loosely extends first belt loop worn tight', 'rating': 1, 'raw_sentence': 'I like being able to adjust the belt on the \"inside\" (where the extra belt material is not visible), so that the end of the belt sticks out only 1\" or so on the outside when worn loosely, and extends to my first belt loop when worn tight.'}, {'index': 28620, 'sentence': 'tightening belt hurry e g stand shake visitors hand takes second barely noticeable particularly compared awkward fumbling required tighten regular belt several notches', 'rating': 1, 'raw_sentence': 'Tightening such a belt in a hurry (e.g., if you have to stand up and shake a visitors hand) takes just a second and is barely noticeable---particularly compared to the awkward fumbling required to tighten a \"regular\" belt by several notches.'}, {'index': 28620, 'sentence': 'unfortunately belts notso easy thread though belt loops slippery leather belts notnormally problem however hassle trying put web belt back going airport screening buckle qualitysince manufactured millions primarily military use military specifications high quality price', 'rating': 1, 'raw_sentence': 'Unfortunately, the belts are not so easy to thread though your belt loops as are slippery leather belts---not normally a problem, however it can be a hassle trying to put your web belt back on after going through airport screening.BUCKLE QUALITYSince these are manufactured by the millions primarily for military use (and to military specifications) they are high quality for the price.'}, {'index': 28620, 'sentence': 'finish rothco gold silver buckles bought flawless', 'rating': 1, 'raw_sentence': 'The fit and finish of the Rothco \"gold\" and \"silver\" buckles I bought was flawless.'}, {'index': 28620, 'sentence': 'sharp edges defects', 'rating': 1, 'raw_sentence': 'No sharp edges, no defects.'}, {'index': 28620, 'sentence': 'however different materials available', 'rating': 1, 'raw_sentence': 'However, different materials ARE available.'}, {'index': 28620, 'sentence': 'rothco buckles steel therefore send metal detectors screaming', 'rating': 1, 'raw_sentence': 'The Rothco buckles  are steel, and therefore send metal detectors screaming.'}, {'index': 28620, 'sentence': 'caution description color brass means gold finish not solid brass metal construction similarly silver means white metal', 'rating': 1, 'raw_sentence': 'Caution: The description of the color \"brass\" means \"gold finish\" NOT solid brass metal construction, similarly \"silver\" means \"white metal\".'}, {'index': 28620, 'sentence': 'several expensive buckles design brushed white brushed yellow real solid brass metal not detected airport metal scanners', 'rating': 1, 'raw_sentence': 'I have several expensive buckles of the same design in brushed-white and brushed-yellow real solid brass metal, which are NOT detected by airport metal scanners.'}, {'index': 28620, 'sentence': 'yes said white brass obviously mostly zinc called white brass', 'rating': 1, 'raw_sentence': 'Yes I said \"white\" brass---obviously mostly zinc---but called \"white brass\".'}, {'index': 28620, 'sentence': 'rothco also sells solid brass buckles separately solid brass web belt buckle', 'rating': 1, 'raw_sentence': 'Rothco also sells solid brass buckles separately:4406 SOLID BRASS WEB BELT BUCKLE.'}, {'index': 28620, 'sentence': 'however clip clips end ends belts still steel set metal detectors', 'rating': 1, 'raw_sentence': 'However, the clip (or clips) on the end (or ends) of these belts are still steel, and will set off metal detectors.'}, {'index': 28620, 'sentence': 'setting beltwhen buckle pull end belt left left hand adjust length', 'rating': 1, 'raw_sentence': '\"Setting\" your BeltWhen you \"buckle up, pull the end of the belt to the left with your left hand to adjust the length.'}, {'index': 28620, 'sentence': 'simultaneously pull loose gripper pin right thumb forefinger right hand sets gripper tight belt notaccidentally come loose', 'rating': 1, 'raw_sentence': 'Simultaneously pull the the loose \"gripper pin\" to the right with the thumb and forefinger of your right hand---this sets the gripper tight so that the belt won\\'t accidentally come loose.'}, {'index': 28620, 'sentence': 'becomes habit noteven think sizeall wide standard jeans chinos etc', 'rating': 1, 'raw_sentence': 'After a while it becomes such a habit you don\\'t even think about.SIZEAll are 1 1/4\" wide, the standard size for jeans, chinos, etc.'}, {'index': 28620, 'sentence': 'usually length web belt not including buckle not waist', 'rating': 1, 'raw_sentence': 'The size (usually 44\" or 54\") is the length of the web belt, NOT including the buckle and is NOT a waist size.'}, {'index': 28620, 'sentence': 'waist buy belt', 'rating': 1, 'raw_sentence': 'If your waist is >38\", then buy a 54\" belt.'}, {'index': 28620, 'sentence': 'overlap necessary', 'rating': 1, 'raw_sentence': 'Some overlap is necessary.'}, {'index': 28620, 'sentence': 'choose want overlap outside say first belt loop inside notvisible', 'rating': 1, 'raw_sentence': \"You can choose where you want the overlap---on the outside, say to your first belt loop; or on the inside (where it isn't visible); or both.\"}, {'index': 28620, 'sentence': 'belts easily shortened cut length like scissors notbe quick shorten belts may need extra length someday webbing belt qualitythe rothco web belts thin rigid comfortable thicker webbing', 'rating': 1, 'raw_sentence': \"The belts can easily be shortened (cut to any length you like with scissors), but don't be too quick to shorten the belts---you may need the extra length someday.WEBBING (BELT) QUALITYThe Rothco web belts are thin and rigid, but are just as comfortable as thicker webbing.\"}, {'index': 28620, 'sentence': 'rothco web belts clip end end goes buckle end slightly ragged', 'rating': 1, 'raw_sentence': 'Rothco web belts have a clip at only one end (the end which goes through the buckle)---the other end is slightly ragged.'}, {'index': 28620, 'sentence': 'not problem might want apply little glue end prevent fraying', 'rating': 1, 'raw_sentence': 'Not a problem, but you might want to apply a little glue to the end to prevent fraying.'}, {'index': 28620, 'sentence': 'elmer white household glue works well purpose elmer multipurpose white glue oz', 'rating': 1, 'raw_sentence': \"Elmer's white household glue works well for this purpose.Elmer's All Multipurpose White Glue, 7 5/8 oz.\"}, {'index': 28620, 'sentence': 'e apply ragged end belt work let dry', 'rating': 1, 'raw_sentence': '(E379)Apply to the ragged end of the belt, work in, let dry.'}, {'index': 28620, 'sentence': 'elmer glue water soluble flexible dry', 'rating': 1, 'raw_sentence': \"Elmer's glue is water soluble and flexible when dry.\"}, {'index': 28620, 'sentence': 'also used beacon fabri tak notwater soluble beacon fabri tac permanent adhesive ounce', 'rating': 1, 'raw_sentence': \"I've also used Beacon Fabri-tak which is not water soluble.Beacon Fabri-Tac Permanent Adhesive, 4-Ounce.\"}, {'index': 28620, 'sentence': 'harder saturate fabric fabri tak particularly repairing fraying old belts', 'rating': 1, 'raw_sentence': 'It is harder to saturate the fabric with Fabri-tak, but it is particularly good for repairing fraying on old belts.'}, {'index': 28620, 'sentence': 'fraying usually years use occurs business end goes buckle', 'rating': 1, 'raw_sentence': 'Fraying (usually after years of use) occurs on the \"business end\" that goes through the buckle.'}, {'index': 28620, 'sentence': 'taken advice several extra inches inside cut frayed section move clip move clip opposite end frayed section inside thin vs thick soft vs rigid thicker web belts clip sometimes notcompressed enough catches buckle solution several whacks hammer cover peice cloth notmar finish close clip tightly', 'rating': 1, 'raw_sentence': 'If you\\'ve taken my advice, and have several extra inches on the \"inside\", you can cut off the frayed section and move the clip---or you can move the clip to the opposite end, so that the frayed section is now on the inside.Thin vs Thick & Soft vs Rigid:  On thicker web belts, the clip is sometimes not compressed enough and catches in the buckle--the solution is several whacks with a hammer (cover with a peice of cloth so you don\\'t mar the finish) to close the clip more tightly.'}, {'index': 28620, 'sentence': 'unlikely clips thinner rothco belts ever catch buckles', 'rating': 1, 'raw_sentence': 'It is unlikely that the clips of the thinner Rothco belts will ever catch in the buckles.'}, {'index': 28620, 'sentence': 'soft belts fall first belt loop flop around', 'rating': 1, 'raw_sentence': 'Soft belts can \"fall out\" of your first belt loop and flop around.'}, {'index': 28620, 'sentence': 'however rigid rothco web belts notflop around unlikely fall first belt loop', 'rating': 1, 'raw_sentence': 'However, the more rigid Rothco web belts don\\'t flop around, and are unlikely to \"fall out\" of the first belt loop.'}, {'index': 28620, 'sentence': 'short thin rigid webbing improvement old thicker softer webbing problem buckle falls many reviewers report buckle falls belt gripper back side notgrip well', 'rating': 1, 'raw_sentence': 'In short, the thin rigid webbing is an improvement over the old thicker, softer, webbing.PROBLEM--buckle \"falls off\"Many reviewers report that the buckle \"falls off\" the belt because the gripper (on the back side) doesn\\'t grip well.'}, {'index': 28620, 'sentence': 'apparently reason standard design originally thicker softer belt webbing', 'rating': 1, 'raw_sentence': 'Apparently the reason for this is the \"standard\" design, which was originally for the thicker softer belt webbing.'}, {'index': 28620, 'sentence': 'gripper notgrip thinner harder webbing tightly', 'rating': 1, 'raw_sentence': \"The gripper doesn't grip the thinner harder webbing so tightly.\"}, {'index': 28620, 'sentence': 'originally setup belt pull hard set teeth', 'rating': 1, 'raw_sentence': 'When you originally setup the belt, pull hard to set the teeth.'}, {'index': 28620, 'sentence': 'temporarily shim scrap paper short length scotch invisible tape buckle gripper tighter grip', 'rating': 1, 'raw_sentence': 'Temporarily, you can \"shim\" it up with a scrap of paper,or a short length of Scotch \"invisible\" tape on the buckle under the gripper, for a tighter grip.'}, {'index': 28620, 'sentence': 'perhaps best shim x piece sticky part post stick sticky side back side buckle gripper easy maneuver place stay put', 'rating': 1, 'raw_sentence': 'Perhaps the best \"shim\" is a 1\" x 1/2\" piece of the sticky part of a \"Post-it\" (stick the sticky side to the back side of the buckle under the gripper)---because it is easy to maneuver into place, and will stay where you put it.'}, {'index': 28620, 'sentence': 'however even without shimming two weeks use without moving position gripper gripper set unlikely problems stars', 'rating': 1, 'raw_sentence': 'However, even without shimming, after about two weeks of use (without moving the position of the gripper), the gripper will \"set\" and you are unlikely to have problems after that.Why only 4 stars?'}, {'index': 28620, 'sentence': 'like solid brass buckles better undetected metal detectors never rust tarnish think brushed finish attractive shiny finish', 'rating': 1, 'raw_sentence': 'Only because I like my solid-brass buckles better---they are undetected by metal detectors and will never rust nor tarnish, and I think that the brushed finish is more attractive than the shiny finish.'}, {'index': 28620, 'sentence': 'inevitable scratches abrasions obvious shiny buckles invisible brushed finish buckles', 'rating': 1, 'raw_sentence': 'Inevitable scratches and abrasions are very obvious on the shiny buckles, but are invisible on the \"brushed\"-finish buckles.'}]\n",
      "1171958\n"
     ]
    }
   ],
   "source": [
    "print(\"Before preprocessing: \", reviews_data['reviewText'][28620])\n",
    "print(\"------------------------------------------------\")\n",
    "print(\"After preprocessing: \", [d for d in preprocessed_data if d['index'] == 28620])\n",
    "print(len(preprocessed_data))"
   ]
  },
  {
   "cell_type": "code",
   "execution_count": 6,
   "metadata": {},
   "outputs": [],
   "source": [
    "# Split Dataset into training and test\n",
    "indexes = [i for i in range(len(reviews_data))]\n",
    "\n",
    "Train_X_index, Test_X_index, Train_Y_review, Test_Y_review = model_selection.train_test_split(indexes,ratings,test_size=0.3, random_state=42)\n",
    "\n",
    "df = pd.DataFrame(preprocessed_data)\n",
    "\n",
    "train = df[df['index'].isin(Train_X_index)]\n",
    "Train_Y = train['rating'].tolist()\n",
    "Train_X_raw = train['raw_sentence'].tolist() \n",
    "Train_X = train['sentence'].tolist()\n",
    "Train_index = train['index'].tolist()\n",
    "\n",
    "\n",
    "test = df[df['index'].isin(Test_X_index)]\n",
    "Test_Y = test['rating'].tolist()\n",
    "Test_X = test['sentence'].tolist()\n",
    "Test_index = test['index'].tolist()\n",
    "\n",
    "all_sentences = Train_X + Test_X"
   ]
  },
  {
   "cell_type": "code",
   "execution_count": 7,
   "metadata": {},
   "outputs": [
    {
     "data": {
      "text/plain": [
       "1171958"
      ]
     },
     "execution_count": 7,
     "metadata": {},
     "output_type": "execute_result"
    }
   ],
   "source": [
    "len(df)"
   ]
  },
  {
   "cell_type": "code",
   "execution_count": 8,
   "metadata": {},
   "outputs": [],
   "source": [
    "analyzer = SentimentIntensityAnalyzer()\n",
    "\n",
    "def calculate_vader_score(sentence):\n",
    "    scores_dict = analyzer.polarity_scores(sentence)\n",
    "    return scores_dict['compound']\n",
    "\n",
    "def get_sentiment_from_score(predicted_score):\n",
    "    if predicted_score > 0:\n",
    "        return 1\n",
    "    elif predicted_score < -0:\n",
    "        return -1\n",
    "    else:\n",
    "        return 0"
   ]
  },
  {
   "cell_type": "code",
   "execution_count": 15,
   "metadata": {},
   "outputs": [],
   "source": [
    "data = {'raw_sentence': Train_X_raw, 'sentence': Train_X}\n",
    "dataframe_lexicon = pd.DataFrame(data)\n",
    "\n",
    "# Calculate predicted scores using afinn lexicon approcach\n",
    "dataframe_lexicon['predicted_score'] = dataframe_lexicon.apply(lambda x: calculate_vader_score(x['raw_sentence']), axis=1)\n",
    "\n",
    "# Get the sentiment from the caluclated score\n",
    "dataframe_lexicon['predicted_sentiment'] = dataframe_lexicon.apply(lambda x: get_sentiment_from_score(x['predicted_score']), axis=1)\n",
    "\n",
    "Train_Y = list(dataframe_lexicon['predicted_sentiment'])"
   ]
  },
  {
   "cell_type": "code",
   "execution_count": 16,
   "metadata": {},
   "outputs": [],
   "source": [
    "# Word Vectorization\n",
    "        \n",
    "TfIdf_vect = TfidfVectorizer(max_features=10000)\n",
    "TfIdf_vect.fit(all_sentences)\n",
    "Train_X_TfIdf = TfIdf_vect.transform(Train_X)\n",
    "Test_X_TfIdf = TfIdf_vect.transform(Test_X)"
   ]
  },
  {
   "cell_type": "code",
   "execution_count": 17,
   "metadata": {},
   "outputs": [],
   "source": [
    "# Oversampling \n",
    "oversample = SMOTE(random_state=100)\n",
    "X_SMOTE, y_SMOTE = oversample.fit_resample(Train_X_TfIdf, Train_Y)"
   ]
  },
  {
   "cell_type": "code",
   "execution_count": 18,
   "metadata": {},
   "outputs": [],
   "source": [
    "def find_Max_Element(scores):\n",
    "    c = Counter(scores)\n",
    "    negatives = c[-1]\n",
    "    neutral = c[0]\n",
    "    positives = c[1]\n",
    "    \n",
    "    if(scores[0] == -1):\n",
    "        negatives += 1\n",
    "    elif(scores[0] == 0):\n",
    "        neutral += 1\n",
    "    elif(scores[0] == 1):\n",
    "        positives += 1\n",
    "    \n",
    "    \n",
    "    if(scores[-1] == -1):\n",
    "        negatives += 1\n",
    "    elif(scores[-1] == 0):\n",
    "        neutral += 1\n",
    "    elif(scores[-1] == 1):\n",
    "        positives += 1\n",
    "\n",
    "    if(neutral == positives and neutral > negatives and positives > negatives):\n",
    "        max_element = 1\n",
    "    elif (neutral == negatives and neutral > positives and negatives > positives):\n",
    "        max_element = -1\n",
    "    elif (neutral == negatives and negatives == positives):\n",
    "        max_element = 0\n",
    "    elif (positives == negatives and positives > neutral and negatives > neutral) :\n",
    "        max_element = 0\n",
    "    else:\n",
    "        max_element = max(set(scores), key = scores.count)\n",
    "        \n",
    "    return max_element"
   ]
  },
  {
   "cell_type": "code",
   "execution_count": 19,
   "metadata": {},
   "outputs": [
    {
     "name": "stdout",
     "output_type": "stream",
     "text": [
      "-14\n",
      "Accuracy:  68.26653905969614\n",
      "--------------------------\n",
      "              precision    recall  f1-score   support\n",
      "\n",
      "    Negative       0.35      0.45      0.39      7996\n",
      "     Neutral       0.17      0.33      0.23      9177\n",
      "    Positive       0.90      0.76      0.82     66417\n",
      "\n",
      "    accuracy                           0.68     83590\n",
      "   macro avg       0.48      0.51      0.48     83590\n",
      "weighted avg       0.77      0.68      0.72     83590\n",
      "\n"
     ]
    },
    {
     "data": {
      "image/png": "[encoded data removed]",
      "text/plain": [
       "<Figure size 504x360 with 2 Axes>"
      ]
     },
     "metadata": {
      "needs_background": "light"
     },
     "output_type": "display_data"
    }
   ],
   "source": [
    "# fit the training dataset on the NB classifier\n",
    "Naive = naive_bayes.MultinomialNB()\n",
    "Naive.fit(X_SMOTE,y_SMOTE)\n",
    "\n",
    "# predict the labels on validation dataset\n",
    "predictions_NB_sentences = Naive.predict(Test_X_TfIdf)\n",
    "\n",
    "# Get grades by review\n",
    "predicted_scores_frame = pd.DataFrame(np.column_stack([Test_index, predictions_NB_sentences, Test_Y]), \n",
    "                               columns=['review Index', 'prediction', 'actual'])\n",
    "\n",
    "print(len(predicted_scores_frame['review Index'].unique()) - len(Test_Y_review))\n",
    "\n",
    "# for each review get all scores by review\n",
    "scores_by_review_frame = predicted_scores_frame.groupby('review Index')['prediction'].apply(list)\n",
    "majority_scores =  scores_by_review_frame.apply(find_Max_Element)\n",
    "predicted_scores = list(majority_scores)\n",
    "\n",
    "# for each review get its actual score\n",
    "actual_scores_frame = predicted_scores_frame.groupby('review Index')['actual'].first()\n",
    "actual_scores = list(actual_scores_frame)\n",
    "\n",
    "# get all indexes\n",
    "review_indexes = predicted_scores_frame['review Index'].unique()\n",
    "\n",
    "# Calculate Accuracy\n",
    "accuracy = accuracy_score(predicted_scores, actual_scores)*100\n",
    "print(\"Accuracy: \", accuracy)\n",
    "print(\"--------------------------\")\n",
    "\n",
    "# Confusion Matrix\n",
    "cm = confusion_matrix(actual_scores, predicted_scores)\n",
    "plt.figure(figsize = (7,5))\n",
    "ax = plt.subplot()\n",
    "sns.heatmap(cm, annot=True, cmap='Blues', fmt='g',ax=ax)\n",
    "ax.set_xlabel('Predicted labels');\n",
    "ax.set_ylabel('True labels'); \n",
    "ax.set_title('Confusion Matrix - Naive Bayes TfIdf Vader'); \n",
    "ax.xaxis.set_ticklabels(['Negative', 'Neutral', 'Positive']); \n",
    "ax.yaxis.set_ticklabels(['Negative', 'Neutral', 'Positive']);\n",
    "\n",
    "# Classification Report\n",
    "my_tags = ['Negative','Neutral','Positive']\n",
    "print(classification_report(actual_scores, predicted_scores, target_names=my_tags))\n",
    "report = classification_report(actual_scores, predicted_scores, target_names=my_tags, output_dict=True);\n",
    "clsf_report = pd.DataFrame(report).transpose()\n",
    "clsf_report.to_csv('reports/NaiveBayes_TfIdf_Vader.csv', index= True)\n"
   ]
  },
  {
   "cell_type": "code",
   "execution_count": 20,
   "metadata": {},
   "outputs": [],
   "source": [
    "# write indexes of false classified reviews to a txt file\n",
    "\n",
    "data = {\"review_index\": review_indexes, \"predict\": predicted_scores, \"actual\": actual_scores}\n",
    "\n",
    "review_dataframe = pd.DataFrame(data)\n",
    "\n",
    "# Save all falsed classified indexes\n",
    "false_classified_indexes = review_dataframe['review_index'][review_dataframe['predict'] != review_dataframe['actual']]\n",
    "false_classified_indexes = list(false_classified_indexes)\n",
    "with open(\"indexes/NaiveBayes_TfIdf_Vader.txt\", 'w') as f:\n",
    "    for item in false_classified_indexes:\n",
    "        f.write(\"%s\\n\" % item)\n",
    "\n",
    "# save those indexes who are predicted as negative but they are neutral\n",
    "negativePredicted_neutralActual_indexes = review_dataframe['review_index'][(review_dataframe['predict'] == -1) & (review_dataframe['actual'] == 0)]\n",
    "negativePredicted_neutralActual_indexes = list(negativePredicted_neutralActual_indexes)\n",
    "with open(\"indexes/NaiveBayes_TfIdf_Vader_NegativePredicted_NeutralActual.txt\", 'w') as f:\n",
    "    for item in negativePredicted_neutralActual_indexes:\n",
    "        f.write(\"%s\\n\" % item)\n",
    "\n",
    "# save those indexes who are predicted as negative but they are positive\n",
    "negativePredicted_positiveActual_indexes = review_dataframe['review_index'][(review_dataframe['predict'] == -1) & (review_dataframe['actual'] == 1)]\n",
    "negativePredicted_positiveActual_indexes = list(negativePredicted_positiveActual_indexes)\n",
    "with open(\"indexes/NaiveBayes_TfIdf_Vader_NegativePredicted_PositiveActual.txt\", 'w') as f:\n",
    "    for item in negativePredicted_positiveActual_indexes:\n",
    "        f.write(\"%s\\n\" % item)\n",
    "        \n",
    "# save those indexes who are predicted as neutral but they are negative\n",
    "neutralPredicted_negativeActual_indexes = review_dataframe['review_index'][(review_dataframe['predict'] ==0) & (review_dataframe['actual'] == -1)]\n",
    "neutralPredicted_negativeActual_indexes = list(neutralPredicted_negativeActual_indexes)\n",
    "with open(\"indexes/NaiveBayes_TfIdf_Vader_NeutralPredicted_NegativeActual.txt\", 'w') as f:\n",
    "    for item in neutralPredicted_negativeActual_indexes:\n",
    "        f.write(\"%s\\n\" % item)\n",
    "\n",
    "# save those indexes who are predicted as neutral but they are positive\n",
    "neutralPredicted_positiveActual_indexes = review_dataframe['review_index'][(review_dataframe['predict'] ==0) & (review_dataframe['actual'] == 1)]\n",
    "neutralPredicted_positiveActual_indexes = list(neutralPredicted_positiveActual_indexes)\n",
    "with open(\"indexes/NaiveBayes_TfIdf_Vader_NeutralPredicted_PositiveActual.txt\", 'w') as f:\n",
    "    for item in neutralPredicted_positiveActual_indexes:\n",
    "        f.write(\"%s\\n\" % item)\n",
    "\n",
    "# save those indexes who are predicted as positive but they are negative        \n",
    "positivePredicted_negativeActual_indexes = review_dataframe['review_index'][(review_dataframe['predict'] ==1) & (review_dataframe['actual'] == -1)]\n",
    "positivePredicted_negativeActual_indexes = list(positivePredicted_negativeActual_indexes)\n",
    "with open(\"indexes/NaiveBayes_TfIdf_Vader_PositivePredicted_NegativeActual.txt\", 'w') as f:\n",
    "    for item in positivePredicted_negativeActual_indexes:\n",
    "        f.write(\"%s\\n\" % item)\n",
    " \n",
    "# save those indexes who are predicted as positive but they are neutral \n",
    "positivePredicted_neutralActual_indexes = review_dataframe['review_index'][(review_dataframe['predict'] ==1) & (review_dataframe['actual'] == 0)]\n",
    "positivePredicted_neutralActual_indexes = list(positivePredicted_neutralActual_indexes)\n",
    "with open(\"indexes/NaiveBayes_TfIdf_Vader_PositivePredicted_NeutralActual.txt\", 'w') as f:\n",
    "    for item in positivePredicted_neutralActual_indexes:\n",
    "        f.write(\"%s\\n\" % item)"
   ]
  },
  {
   "cell_type": "code",
   "execution_count": null,
   "metadata": {},
   "outputs": [],
   "source": []
  }
 ],
 "metadata": {
  "kernelspec": {
   "display_name": "Python 3",
   "language": "python",
   "name": "python3"
  },
  "language_info": {
   "codemirror_mode": {
    "name": "ipython",
    "version": 3
   },
   "file_extension": ".py",
   "mimetype": "text/x-python",
   "name": "python",
   "nbconvert_exporter": "python",
   "pygments_lexer": "ipython3",
   "version": "3.8.5"
  }
 },
 "nbformat": 4,
 "nbformat_minor": 2
}
