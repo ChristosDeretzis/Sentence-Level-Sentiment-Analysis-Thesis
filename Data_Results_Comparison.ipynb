{
 "cells": [
  {
   "cell_type": "code",
   "execution_count": 1,
   "metadata": {},
   "outputs": [],
   "source": [
    "def get_indexes_from_file(fileName):\n",
    "    data = []\n",
    "    with open(fileName) as f:\n",
    "        for line in f:\n",
    "            data.append(int(line.rstrip(\"\\n\")))\n",
    "    return data"
   ]
  },
  {
   "cell_type": "code",
   "execution_count": 2,
   "metadata": {},
   "outputs": [],
   "source": [
    "def find_common_elements(list1, list2):\n",
    "    return list(set(list1).intersection(list2))\n",
    "\n",
    "def find_common_elements_02(list1, list2, list3):\n",
    "    return list(set(list1) & set(list2) & set(list3))"
   ]
  },
  {
   "cell_type": "code",
   "execution_count": 3,
   "metadata": {},
   "outputs": [
    {
     "name": "stdout",
     "output_type": "stream",
     "text": [
      "Number of common elements:  17284\n",
      "Percent of common elements in oversampling with SVM:  74.30143581807239\n",
      "Percent of common elements in undersampling with SVM:  61.02460897503795\n"
     ]
    }
   ],
   "source": [
    "# Compare oversampling and undersampling in SVM with Hashing vectorizer\n",
    "svm_oversampling = get_indexes_from_file(\"indexes/SVM_HashingVectorizer_Oversampling.txt\")\n",
    "svm_undersampling = get_indexes_from_file(\"indexes/SVM_HashingVectorizer_Undersampling.txt\")\n",
    "common_elements = find_common_elements(svm_oversampling, svm_undersampling)\n",
    "\n",
    "print(\"Number of common elements: \", len(common_elements))\n",
    "print(\"Percent of common elements in oversampling with SVM: \", (len(common_elements)/len(svm_oversampling))*100)\n",
    "print(\"Percent of common elements in undersampling with SVM: \", (len(common_elements)/len(svm_undersampling))*100)"
   ]
  },
  {
   "cell_type": "code",
   "execution_count": 4,
   "metadata": {},
   "outputs": [
    {
     "name": "stdout",
     "output_type": "stream",
     "text": [
      "Number of common elements:  22111\n",
      "Percent of common elements in lancaster stemmer with SVM:  89.40600865310743\n",
      "Percent of common elements in snowball stemmer with SVM:  90.67087673255146\n"
     ]
    }
   ],
   "source": [
    "# Compare lancaster stemmer and Snowball stemmer in SVM with Hashing vectorizer\n",
    "svm_lancaster = get_indexes_from_file(\"indexes/SVM_Hashing_Lancaster.txt\")\n",
    "svm_snowball = get_indexes_from_file(\"indexes/SVM_Hashing_SnowballStemmer.txt\")\n",
    "common_elements = find_common_elements(svm_lancaster, svm_snowball)\n",
    "\n",
    "print(\"Number of common elements: \", len(common_elements))\n",
    "print(\"Percent of common elements in lancaster stemmer with SVM: \", (len(common_elements)/len(svm_lancaster))*100)\n",
    "print(\"Percent of common elements in snowball stemmer with SVM: \", (len(common_elements)/len(svm_snowball))*100)"
   ]
  },
  {
   "cell_type": "code",
   "execution_count": 5,
   "metadata": {},
   "outputs": [
    {
     "name": "stdout",
     "output_type": "stream",
     "text": [
      "Number of common elements:  17032\n",
      "Percent of common elements in vader lexicon method with SVM:  73.48664624412132\n",
      "Percent of common elements in textblob lexicon method with SVM:  62.698325050616596\n"
     ]
    }
   ],
   "source": [
    "# Compare Vader and Textblob in SVM with Hashing vectorizer\n",
    "svm_vader = get_indexes_from_file(\"indexes/SVM_Hashing_Vader.txt\")\n",
    "svm_textblob = get_indexes_from_file(\"indexes/SVM_Hashing_Textblob.txt\")\n",
    "common_elements = find_common_elements(svm_vader, svm_textblob)\n",
    "\n",
    "print(\"Number of common elements: \", len(common_elements))\n",
    "print(\"Percent of common elements in vader lexicon method with SVM: \", (len(common_elements)/len(svm_vader))*100)\n",
    "print(\"Percent of common elements in textblob lexicon method with SVM: \", (len(common_elements)/len(svm_textblob))*100)"
   ]
  },
  {
   "cell_type": "code",
   "execution_count": 6,
   "metadata": {},
   "outputs": [
    {
     "name": "stdout",
     "output_type": "stream",
     "text": [
      "Number of common elements:  20737\n",
      "Percent of common elements in oversampling with Naive Bayes:  83.90790644978556\n",
      "Percent of common elements in undersampling with Naive Bayes:  80.03782469412172\n"
     ]
    }
   ],
   "source": [
    "# Compare oversampling and undersampling in Naive Bayes with TfIdf vectorizer\n",
    "nb_oversampling = get_indexes_from_file(\"indexes/NaiveBayes_TfIdf_Oversampling.txt\")\n",
    "nb_undersampling = get_indexes_from_file(\"indexes/NaiveBayes_TfIdf_Undersampling.txt\")\n",
    "common_elements = find_common_elements(nb_oversampling, nb_undersampling)\n",
    "\n",
    "print(\"Number of common elements: \", len(common_elements))\n",
    "print(\"Percent of common elements in oversampling with Naive Bayes: \", (len(common_elements)/len(nb_oversampling))*100)\n",
    "print(\"Percent of common elements in undersampling with Naive Bayes: \", (len(common_elements)/len(nb_undersampling))*100)"
   ]
  },
  {
   "cell_type": "code",
   "execution_count": 7,
   "metadata": {},
   "outputs": [
    {
     "name": "stdout",
     "output_type": "stream",
     "text": [
      "Number of common elements:  21856\n",
      "Percent of common elements in lancaster stemmer with Naive Bayes:  74.1585233441911\n",
      "Percent of common elements in snowball stemmer with Naive Bayes:  85.59567635309783\n"
     ]
    }
   ],
   "source": [
    "# Compare lancaster stemmer and Snowball stemmer in SVM with TfIdf vectorizer\n",
    "nb_lancaster = get_indexes_from_file(\"indexes/NaiveBayes_TfIdf_Lancaster.txt\")\n",
    "nb_snowball = get_indexes_from_file(\"indexes/NaiveBayes_TfIdf_Snowball.txt\")\n",
    "common_elements = find_common_elements(nb_lancaster, nb_snowball)\n",
    "\n",
    "print(\"Number of common elements: \", len(common_elements))\n",
    "print(\"Percent of common elements in lancaster stemmer with Naive Bayes: \", (len(common_elements)/len(nb_lancaster))*100)\n",
    "print(\"Percent of common elements in snowball stemmer with Naive Bayes: \", (len(common_elements)/len(nb_snowball))*100)"
   ]
  },
  {
   "cell_type": "code",
   "execution_count": 8,
   "metadata": {},
   "outputs": [
    {
     "name": "stdout",
     "output_type": "stream",
     "text": [
      "Number of common elements:  16659\n",
      "Percent of common elements in vader lexicon method with SVM:  67.45353686682593\n",
      "Percent of common elements in textblob lexicon method with SVM:  52.360447573547894\n"
     ]
    }
   ],
   "source": [
    "# Compare Vader and Textblob in SVM with TfIdf vectorizer\n",
    "nb_vader = get_indexes_from_file(\"indexes/NaiveBayes_TfIdf_Vader.txt\")\n",
    "nb_textblob = get_indexes_from_file(\"indexes/NaiveBayes_TfIdf_Textblob.txt\")\n",
    "common_elements = find_common_elements(nb_vader, nb_textblob)\n",
    "\n",
    "print(\"Number of common elements: \", len(common_elements))\n",
    "print(\"Percent of common elements in vader lexicon method with SVM: \", (len(common_elements)/len(nb_vader))*100)\n",
    "print(\"Percent of common elements in textblob lexicon method with SVM: \", (len(common_elements)/len(nb_textblob))*100)"
   ]
  },
  {
   "cell_type": "code",
   "execution_count": 9,
   "metadata": {},
   "outputs": [
    {
     "name": "stdout",
     "output_type": "stream",
     "text": [
      "Number of common elements:  43999\n",
      "Percent of common elements in vader lexicon method:  60.03984553034128\n",
      "Percent of common elements in afinn lexicon method:  51.453597155954725\n",
      "Percent of common elements in textblob lexicon method:  53.0767096517365\n"
     ]
    }
   ],
   "source": [
    "# Compare lexicon based methods\n",
    "vader = get_indexes_from_file(\"indexes/Lexicon_Based_Vader.txt\")\n",
    "afinn = get_indexes_from_file(\"indexes/Lexicon_Based_Afinn.txt\")\n",
    "textblob = get_indexes_from_file(\"indexes/Lexicon_based_Textblob.txt\")\n",
    "common_elements = find_common_elements_02(vader, afinn, textblob)\n",
    "\n",
    "print(\"Number of common elements: \", len(common_elements))\n",
    "print(\"Percent of common elements in vader lexicon method: \", (len(common_elements)/len(vader))*100)\n",
    "print(\"Percent of common elements in afinn lexicon method: \", (len(common_elements)/len(afinn))*100)\n",
    "print(\"Percent of common elements in textblob lexicon method: \", (len(common_elements)/len(textblob))*100)"
   ]
  },
  {
   "cell_type": "code",
   "execution_count": null,
   "metadata": {},
   "outputs": [],
   "source": []
  }
 ],
 "metadata": {
  "kernelspec": {
   "display_name": "Python 3",
   "language": "python",
   "name": "python3"
  },
  "language_info": {
   "codemirror_mode": {
    "name": "ipython",
    "version": 3
   },
   "file_extension": ".py",
   "mimetype": "text/x-python",
   "name": "python",
   "nbconvert_exporter": "python",
   "pygments_lexer": "ipython3",
   "version": "3.8.8"
  }
 },
 "nbformat": 4,
 "nbformat_minor": 4
}
